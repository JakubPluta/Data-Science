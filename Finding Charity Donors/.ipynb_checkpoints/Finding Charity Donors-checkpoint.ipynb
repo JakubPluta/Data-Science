{
 "cells": [
  {
   "cell_type": "markdown",
   "metadata": {},
   "source": [
    "## Cel pracy\n",
    "\n",
    "Celem projektu jest znalezienie potencjalnych darczyńców w zbiorze danych, który jest spisem powszechnym ludności w USA z 1994 roku. W ramach projektu wykorzystam różnego rodzaju algorytmy uczenia maszynowego oprate na uczeniu nadzorowanym w celu zaprognozowania dochodu osób z subsetu. W kolejnym etapie wybiorę algorytm o największej skuteczności/precyzji. \n",
    "Zakładam, że potencjalni darczyńcy to osoby, która zarabiają ponad 50 000 $. Podstawą pracy będzie eksploracja danych i znalezienie cech, które w najwięszym stopniu determinują osiągany dochód. "
   ]
  },
  {
   "cell_type": "code",
   "execution_count": 1,
   "metadata": {},
   "outputs": [],
   "source": [
    "import pandas as pd\n",
    "import numpy as np\n",
    "import seaborn as sns\n",
    "import matplotlib.pyplot as plt\n",
    "import warnings\n",
    "\n",
    "pd.options.display.float_format = \"{:.3f}\".format\n",
    "pd.set_option('display.max_columns',100)\n",
    "\n",
    "from matplotlib import rcParams\n",
    "rcParams['figure.figsize'] = 15,6\n",
    "sns.set(style='white')"
   ]
  },
  {
   "cell_type": "code",
   "execution_count": 10,
   "metadata": {},
   "outputs": [],
   "source": [
    "# Funckje\n",
    "\n",
    "def counts_pct(category,data):\n",
    "    '''Funkcja, która zwraca dla tanej kategori liczbe wartości, oraz wartość procentową'''\n",
    "    base = data[category].value_counts()\n",
    "    pct = base/data[category].shape[0] * 100\n",
    "    joined = pd.concat([base,pct],axis=1)\n",
    "    joined.columns = [str(category),str(category) + ' %']\n",
    "    return joined\n",
    "\n",
    "\n",
    "def annotate(ax,s=\"%.2f\",suffix=''):\n",
    "    for p in ax.patches:\n",
    "        ax.annotate(s % p.get_height() + suffix, \n",
    "                 (p.get_x() + p.get_width() / 2,\n",
    "                  p.get_height()), ha='center', va='center', xytext=(0, 10), textcoords='offset points')\n",
    "        \n",
    "def despine(rot=0):\n",
    "    sns.despine(left=True)\n",
    "    plt.xticks(rotation = rot);\n",
    "    plt.xlabel('');\n",
    "    plt.ylabel('');"
   ]
  },
  {
   "cell_type": "code",
   "execution_count": 2,
   "metadata": {},
   "outputs": [],
   "source": [
    "data = pd.read_csv('census.csv')"
   ]
  },
  {
   "cell_type": "code",
   "execution_count": 3,
   "metadata": {},
   "outputs": [
    {
     "data": {
      "text/html": [
       "<div>\n",
       "<style scoped>\n",
       "    .dataframe tbody tr th:only-of-type {\n",
       "        vertical-align: middle;\n",
       "    }\n",
       "\n",
       "    .dataframe tbody tr th {\n",
       "        vertical-align: top;\n",
       "    }\n",
       "\n",
       "    .dataframe thead th {\n",
       "        text-align: right;\n",
       "    }\n",
       "</style>\n",
       "<table border=\"1\" class=\"dataframe\">\n",
       "  <thead>\n",
       "    <tr style=\"text-align: right;\">\n",
       "      <th></th>\n",
       "      <th>age</th>\n",
       "      <th>workclass</th>\n",
       "      <th>education_level</th>\n",
       "      <th>education-num</th>\n",
       "      <th>marital-status</th>\n",
       "      <th>occupation</th>\n",
       "      <th>relationship</th>\n",
       "      <th>race</th>\n",
       "      <th>sex</th>\n",
       "      <th>capital-gain</th>\n",
       "      <th>capital-loss</th>\n",
       "      <th>hours-per-week</th>\n",
       "      <th>native-country</th>\n",
       "      <th>income</th>\n",
       "    </tr>\n",
       "  </thead>\n",
       "  <tbody>\n",
       "    <tr>\n",
       "      <td>0</td>\n",
       "      <td>39</td>\n",
       "      <td>State-gov</td>\n",
       "      <td>Bachelors</td>\n",
       "      <td>13.000</td>\n",
       "      <td>Never-married</td>\n",
       "      <td>Adm-clerical</td>\n",
       "      <td>Not-in-family</td>\n",
       "      <td>White</td>\n",
       "      <td>Male</td>\n",
       "      <td>2174.000</td>\n",
       "      <td>0.000</td>\n",
       "      <td>40.000</td>\n",
       "      <td>United-States</td>\n",
       "      <td>&lt;=50K</td>\n",
       "    </tr>\n",
       "    <tr>\n",
       "      <td>1</td>\n",
       "      <td>50</td>\n",
       "      <td>Self-emp-not-inc</td>\n",
       "      <td>Bachelors</td>\n",
       "      <td>13.000</td>\n",
       "      <td>Married-civ-spouse</td>\n",
       "      <td>Exec-managerial</td>\n",
       "      <td>Husband</td>\n",
       "      <td>White</td>\n",
       "      <td>Male</td>\n",
       "      <td>0.000</td>\n",
       "      <td>0.000</td>\n",
       "      <td>13.000</td>\n",
       "      <td>United-States</td>\n",
       "      <td>&lt;=50K</td>\n",
       "    </tr>\n",
       "    <tr>\n",
       "      <td>2</td>\n",
       "      <td>38</td>\n",
       "      <td>Private</td>\n",
       "      <td>HS-grad</td>\n",
       "      <td>9.000</td>\n",
       "      <td>Divorced</td>\n",
       "      <td>Handlers-cleaners</td>\n",
       "      <td>Not-in-family</td>\n",
       "      <td>White</td>\n",
       "      <td>Male</td>\n",
       "      <td>0.000</td>\n",
       "      <td>0.000</td>\n",
       "      <td>40.000</td>\n",
       "      <td>United-States</td>\n",
       "      <td>&lt;=50K</td>\n",
       "    </tr>\n",
       "    <tr>\n",
       "      <td>3</td>\n",
       "      <td>53</td>\n",
       "      <td>Private</td>\n",
       "      <td>11th</td>\n",
       "      <td>7.000</td>\n",
       "      <td>Married-civ-spouse</td>\n",
       "      <td>Handlers-cleaners</td>\n",
       "      <td>Husband</td>\n",
       "      <td>Black</td>\n",
       "      <td>Male</td>\n",
       "      <td>0.000</td>\n",
       "      <td>0.000</td>\n",
       "      <td>40.000</td>\n",
       "      <td>United-States</td>\n",
       "      <td>&lt;=50K</td>\n",
       "    </tr>\n",
       "    <tr>\n",
       "      <td>4</td>\n",
       "      <td>28</td>\n",
       "      <td>Private</td>\n",
       "      <td>Bachelors</td>\n",
       "      <td>13.000</td>\n",
       "      <td>Married-civ-spouse</td>\n",
       "      <td>Prof-specialty</td>\n",
       "      <td>Wife</td>\n",
       "      <td>Black</td>\n",
       "      <td>Female</td>\n",
       "      <td>0.000</td>\n",
       "      <td>0.000</td>\n",
       "      <td>40.000</td>\n",
       "      <td>Cuba</td>\n",
       "      <td>&lt;=50K</td>\n",
       "    </tr>\n",
       "  </tbody>\n",
       "</table>\n",
       "</div>"
      ],
      "text/plain": [
       "   age          workclass education_level  education-num       marital-status  \\\n",
       "0   39          State-gov       Bachelors         13.000        Never-married   \n",
       "1   50   Self-emp-not-inc       Bachelors         13.000   Married-civ-spouse   \n",
       "2   38            Private         HS-grad          9.000             Divorced   \n",
       "3   53            Private            11th          7.000   Married-civ-spouse   \n",
       "4   28            Private       Bachelors         13.000   Married-civ-spouse   \n",
       "\n",
       "           occupation    relationship    race      sex  capital-gain  \\\n",
       "0        Adm-clerical   Not-in-family   White     Male      2174.000   \n",
       "1     Exec-managerial         Husband   White     Male         0.000   \n",
       "2   Handlers-cleaners   Not-in-family   White     Male         0.000   \n",
       "3   Handlers-cleaners         Husband   Black     Male         0.000   \n",
       "4      Prof-specialty            Wife   Black   Female         0.000   \n",
       "\n",
       "   capital-loss  hours-per-week  native-country income  \n",
       "0         0.000          40.000   United-States  <=50K  \n",
       "1         0.000          13.000   United-States  <=50K  \n",
       "2         0.000          40.000   United-States  <=50K  \n",
       "3         0.000          40.000   United-States  <=50K  \n",
       "4         0.000          40.000            Cuba  <=50K  "
      ]
     },
     "execution_count": 3,
     "metadata": {},
     "output_type": "execute_result"
    }
   ],
   "source": [
    "data.head()"
   ]
  },
  {
   "cell_type": "code",
   "execution_count": 4,
   "metadata": {},
   "outputs": [
    {
     "data": {
      "text/plain": [
       "(45222, 14)"
      ]
     },
     "execution_count": 4,
     "metadata": {},
     "output_type": "execute_result"
    }
   ],
   "source": [
    "data.shape"
   ]
  },
  {
   "cell_type": "markdown",
   "metadata": {},
   "source": [
    "## Dataset Informacje\n",
    "\n",
    "Zbiór danych pochodzi ze strony https://archive.ics.uci.edu/ml/datasets/census+income\n",
    "\n",
    "Jest to spis powszechny ludności w USA z 1994 roku, w którym mamy cechy społeczno ekonomiczne każdej osoby oraz informacje o dochodzie. \n",
    "\n",
    "Zbiór danych liczy 45222 wiersze oraz 14 cech.\n",
    "\n",
    "\n",
    "### Zmienne  \n",
    "\n",
    "__age:__ Age  \n",
    "__workclass__: Working Class (Private, Self-emp-not-inc, Self-emp-inc, Federal-gov, Local-gov, State-gov, Without-pay, Never-worked)  \n",
    "__education_level__: Level of Education (Bachelors, Some-college, 11th, HS-grad, Prof-school, Assoc-acdm, Assoc-voc, 9th, 7th-8th, 12th, Masters, 1st-4th, 10th, Doctorate, 5th-6th, Preschool)  \n",
    "__education-num__: Number of educational years completed  \n",
    "__marital-status__: Marital status (Married-civ-spouse, Divorced, Never-married, Separated, Widowed, Married-spouse-absent, Married-AF-spouse)  \n",
    "__occupation:__ Work Occupation (Tech-support, Craft-repair, Other-service, Sales, Exec-managerial, Prof-specialty, Handlers-cleaners, Machine-op-inspct, Adm-clerical, Farming-fishing, Transport-moving, Priv-house-serv, Protective-serv, Armed-Forces)  \n",
    "__relationship__: Relationship Status (Wife, Own-child, Husband, Not-in-family, Other-relative, Unmarried)  \n",
    "__race:__ Race (White, Asian-Pac-Islander, Amer-Indian-Eskimo, Other, Black)  \n",
    "__sex:__ Sex (Female, Male)  \n",
    "__capital-gain:__ Monetary Capital Gains  \n",
    "__capital-loss:__ Monetary Capital Losses  \n",
    "__hours-per-week:__ Average Hours Per Week Worked  \n",
    "__native-country:__ Native Country (United-States, Cambodia, England, Puerto-Rico, Canada, Germany, Outlying-US(Guam-USVI-etc), India, Japan, Greece, South, China, Cuba, Iran, Honduras, Philippines, Italy, Poland, Jamaica, Vietnam, Mexico, Portugal, Ireland, France, Dominican-Republic, Laos, Ecuador, Taiwan, Haiti, Columbia, Hungary, Guatemala, Nicaragua, Scotland, Thailand, Yugoslavia, El-Salvador, Trinadad&Tobago, Peru, Hong, Holand-Netherlands)  \n",
    "\n",
    "__income:__ Income Class (<=50K, >50K) - Target  "
   ]
  },
  {
   "cell_type": "code",
   "execution_count": 6,
   "metadata": {},
   "outputs": [
    {
     "data": {
      "text/plain": [
       "age                0\n",
       "workclass          0\n",
       "education_level    0\n",
       "education-num      0\n",
       "marital-status     0\n",
       "occupation         0\n",
       "relationship       0\n",
       "race               0\n",
       "sex                0\n",
       "capital-gain       0\n",
       "capital-loss       0\n",
       "hours-per-week     0\n",
       "native-country     0\n",
       "income             0\n",
       "dtype: int64"
      ]
     },
     "execution_count": 6,
     "metadata": {},
     "output_type": "execute_result"
    }
   ],
   "source": [
    "data.isnull().sum()"
   ]
  },
  {
   "cell_type": "markdown",
   "metadata": {},
   "source": [
    "Nie mamy w naszym zbiorze danych, rzadnych brakujących danych. Więc możemy przejść do ekslporacji danych"
   ]
  },
  {
   "cell_type": "markdown",
   "metadata": {},
   "source": [
    "### Eksploracja i wizualizacja danych"
   ]
  },
  {
   "cell_type": "code",
   "execution_count": 11,
   "metadata": {},
   "outputs": [
    {
     "data": {
      "text/html": [
       "<div>\n",
       "<style scoped>\n",
       "    .dataframe tbody tr th:only-of-type {\n",
       "        vertical-align: middle;\n",
       "    }\n",
       "\n",
       "    .dataframe tbody tr th {\n",
       "        vertical-align: top;\n",
       "    }\n",
       "\n",
       "    .dataframe thead th {\n",
       "        text-align: right;\n",
       "    }\n",
       "</style>\n",
       "<table border=\"1\" class=\"dataframe\">\n",
       "  <thead>\n",
       "    <tr style=\"text-align: right;\">\n",
       "      <th></th>\n",
       "      <th>income</th>\n",
       "      <th>income %</th>\n",
       "    </tr>\n",
       "  </thead>\n",
       "  <tbody>\n",
       "    <tr>\n",
       "      <td>&lt;=50K</td>\n",
       "      <td>34014</td>\n",
       "      <td>75.216</td>\n",
       "    </tr>\n",
       "    <tr>\n",
       "      <td>&gt;50K</td>\n",
       "      <td>11208</td>\n",
       "      <td>24.784</td>\n",
       "    </tr>\n",
       "  </tbody>\n",
       "</table>\n",
       "</div>"
      ],
      "text/plain": [
       "       income  income %\n",
       "<=50K   34014    75.216\n",
       ">50K    11208    24.784"
      ]
     },
     "execution_count": 11,
     "metadata": {},
     "output_type": "execute_result"
    }
   ],
   "source": [
    "counts_pct(category='income',data=data)"
   ]
  },
  {
   "cell_type": "code",
   "execution_count": 18,
   "metadata": {},
   "outputs": [
    {
     "data": {
      "image/png": "[encoded data removed]",
      "text/plain": [
       "<Figure size 1008x360 with 2 Axes>"
      ]
     },
     "metadata": {
      "needs_background": "light"
     },
     "output_type": "display_data"
    }
   ],
   "source": [
    "f,ax = plt.subplots(1,2,figsize=(14,5))\n",
    "fig1 = sns.barplot(y='income', x=counts_pct(category='income',data=data).index \n",
    "                   ,data= counts_pct(category='income',data=data)\n",
    "                  ,palette=['#40434E','#912F40'],ax=ax[0])\n",
    "fig1.set_ylabel('');\n",
    "annotate(fig1,s=\"%.0f\",suffix='')\n",
    "despine()\n",
    "\n",
    "my_circle=plt.Circle( (0,0), 0.83, color='white')\n",
    "names=['<=50k','>50k']\n",
    "size=data['income'].value_counts().tolist()\n",
    "plt.pie(size, labels=names, colors=['#40434E','#912F40'],autopct='%1.2f%%',startangle=35)\n",
    "p=plt.gcf()\n",
    "p.gca().add_artist(my_circle);\n",
    "plt.setp(plt.gcf().get_axes(), xlabel='', ylabel='');\n",
    "plt.suptitle('Zarobki badanych', fontsize=17);"
   ]
  },
  {
   "cell_type": "markdown",
   "metadata": {},
   "source": [
    "Widzimy, ze w naszym zbiorze danych 75% stanowią, osoby zarabiające mniej niż 50 000 USD, pozostałe 25 % zarabia więcej niż 50 000 USD"
   ]
  },
  {
   "cell_type": "markdown",
   "metadata": {},
   "source": [
    "### Przygotowanie danych\n",
    "\n",
    "Jednym z podstawowych działań przed przystąpieniem do budowania modelu jest wstępne przetworzenie danych. Etap ten obejmuje m.in czyszczenie danych, formatowanie danych, zmianę struktury danych itd. \n",
    "Zbiór danych może czasem zawierać cechy, których dytrybucja oscyluje wokół danego punktu (liczby, wartości) jednak może również zawierać znaczną część wartości, które leżą daleko od tego punktu. Algorytmy mogą być wrażliwe na takie rozkłady wartości i mogą osiągać gorsze wyniki. W takim wypadku zazwyczaj stosuje się metody normalizacji. \n",
    "\n",
    "Czym jest skośność ? \n",
    "\n",
    "Skośność jest miarą asymetrii obserwowanych wyników. Informuje nas o tym jak wyniki dla danej zmiennej kształtują się wokół średniej. Czy większość zaobserwowanych wyników jest z lewej strony średniej, blisko wartości średniej czy z prawej strony średniej? Innymi słowy, czy w naszym zbiorze obserwacji więcej jest wyników, które są niższe niż średnia dla całej grupy, wyższe czy równe średniej?\n",
    "\n",
    "![Image of skośność](https://consider.pl/wp-content/uploads/2014/11/kurtoza_skosnosc.jpg)\n",
    "\n",
    "1. Rozkład normalny jest idealnie symetryczny. Występuje tu zależność __Średnia= Mediana= Dominanta__ Oznacza to, że wartość średnia dzieli rozkład dokładnie na pół i jest też najczęściej występującą wartością.\n",
    "\n",
    "2. Rozkład prawoskośny cechuje się natomiast długim tzw. „ogonem” z prawej strony rozkładu. __Średnia > Mediana > Dominanta__\n",
    "Oznacza to, że w próbie badawczej jest więcej wyników poniżej średniej.\n",
    "\n",
    "3. W rozkładzie lewoskośnym występuje natomiast długi ogon z lewej strony rozkładu. . Zachodzi w nim zależność: __Średnia < Mediana < Dominanta__\n",
    "\n",
    "Poza skośnością rozkładu bardzo ważna jest również kurtoza określająca drugi wymiar zmiany rozkładu, jego spłaszczenie lub wysmuklenie. Kurtoza wraz ze skośnością są miarami pozwalającymi określić czy rozkład jest zgodny z rozkładem normalnym lub czy występują istotne różnice między badanym rozkładem a rozkładem normalnym."
   ]
  },
  {
   "cell_type": "code",
   "execution_count": 21,
   "metadata": {},
   "outputs": [
    {
     "name": "stdout",
     "output_type": "stream",
     "text": [
      "<class 'pandas.core.frame.DataFrame'>\n",
      "RangeIndex: 45222 entries, 0 to 45221\n",
      "Data columns (total 14 columns):\n",
      "age                45222 non-null int64\n",
      "workclass          45222 non-null object\n",
      "education_level    45222 non-null object\n",
      "education-num      45222 non-null float64\n",
      "marital-status     45222 non-null object\n",
      "occupation         45222 non-null object\n",
      "relationship       45222 non-null object\n",
      "race               45222 non-null object\n",
      "sex                45222 non-null object\n",
      "capital-gain       45222 non-null float64\n",
      "capital-loss       45222 non-null float64\n",
      "hours-per-week     45222 non-null float64\n",
      "native-country     45222 non-null object\n",
      "income             45222 non-null object\n",
      "dtypes: float64(4), int64(1), object(9)\n",
      "memory usage: 4.8+ MB\n"
     ]
    }
   ],
   "source": [
    "data.info()"
   ]
  },
  {
   "cell_type": "code",
   "execution_count": 28,
   "metadata": {},
   "outputs": [
    {
     "data": {
      "image/png": "[encoded data removed]",
      "text/plain": [
       "<Figure size 1080x864 with 6 Axes>"
      ]
     },
     "metadata": {
      "needs_background": "light"
     },
     "output_type": "display_data"
    }
   ],
   "source": [
    "# kategorie capital-gain, capital-loss , hours-per-week ,   age  , education-num\n",
    "features_sk = ['capital-gain','capital-loss','age','education-num','hours-per-week']\n",
    "\n",
    "data[features_sk].hist(figsize=(15,12),grid=False);"
   ]
  },
  {
   "cell_type": "code",
   "execution_count": 37,
   "metadata": {},
   "outputs": [
    {
     "data": {
      "image/png": "[encoded data removed]",
      "text/plain": [
       "<Figure size 1080x576 with 2 Axes>"
      ]
     },
     "metadata": {
      "needs_background": "light"
     },
     "output_type": "display_data"
    }
   ],
   "source": [
    "f,ax = plt.subplots(2,1,figsize=(15,8))\n",
    "a1 = sns.distplot(data['capital-gain'],ax=ax[0])\n",
    "a2 = sns.distplot(data['capital-loss'],ax=ax[1])"
   ]
  },
  {
   "cell_type": "code",
   "execution_count": 38,
   "metadata": {},
   "outputs": [
    {
     "data": {
      "text/plain": [
       "capital-gain     11.789\n",
       "capital-loss      4.516\n",
       "age               0.533\n",
       "education-num    -0.311\n",
       "hours-per-week    0.341\n",
       "dtype: float64"
      ]
     },
     "execution_count": 38,
     "metadata": {},
     "output_type": "execute_result"
    }
   ],
   "source": [
    "data[features_sk].skew()"
   ]
  },
  {
   "cell_type": "markdown",
   "metadata": {},
   "source": [
    "W przypadku capital-gain i capital-loss mamy doczyniennia z asymtrią i dużą skośnością prawostronną. Powinniśmy dokonać normalizacji danych"
   ]
  },
  {
   "cell_type": "code",
   "execution_count": null,
   "metadata": {},
   "outputs": [],
   "source": []
  }
 ],
 "metadata": {
  "kernelspec": {
   "display_name": "Python 3",
   "language": "python",
   "name": "python3"
  },
  "language_info": {
   "codemirror_mode": {
    "name": "ipython",
    "version": 3
   },
   "file_extension": ".py",
   "mimetype": "text/x-python",
   "name": "python",
   "nbconvert_exporter": "python",
   "pygments_lexer": "ipython3",
   "version": "3.7.4"
  }
 },
 "nbformat": 4,
 "nbformat_minor": 2
}
