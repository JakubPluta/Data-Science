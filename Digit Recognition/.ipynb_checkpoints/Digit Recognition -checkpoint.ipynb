{
 "cells": [
  {
   "cell_type": "markdown",
   "metadata": {},
   "source": [
    "## Cel Projektu\n",
    "\n",
    "Celem projektu jest zapoznanie się z obszarem uczenia maszynowego jakim jest \"Deep Learning\". Wykorzystamy tutaj CNN w celu stworzenia algorytmu do rozpoznawania obrazów. \n",
    "\n",
    "\n",
    "### Deep learning - głębokie uczenie. \n",
    "\n",
    "Deep Learning -  cześć uczenia maszynowego, jedna z gałęzi sztucznej inteligencji, która opiera się na budowaniu sieci neuronowych, czyli takich systemów informatycznych, których budowa i funkcjonowanie przypomina pracę ludzkiego mózgu. Deep learning można określić procesem w ramach, którego komputer uczy się zadań naturalnych dla mózgu ludzkiego. Możemy tutaj wymienić np. identyfikacja obrazów, prognozowanie, rozpoznowanie mowy. Komputer przy deep learningu gromadzi podstawowe parametry, cechy dotyczące danych i na ich podstawie stara się rozpoznować wzorce poprzez zastosowanie wielu warst przetwarzania. \n",
    "\n",
    "Sieć neuronowa (sztuczna sieć neuronowa) – ogólna nazwa struktur matematycznych i ich programowych lub sprzętowych modeli, realizujących obliczenia lub przetwarzanie sygnałów poprzez rzędy elementów przetwarzających, zwanych sztucznymi neuronami, wykonujących pewną podstawową operację na swoim wejściu. Oryginalną inspiracją takiej struktury była budowa naturalnych neuronów, łączących je synaps, oraz układów nerwowych, w szczególności mózgu.Jest to ogromna ilość połączonych ze sobą, jednocześnie działających procesorów. Każdy z nich posiada dostęp do pamięci lokalnej, i jest zasilany dużą ilością danych oraz informacją na temat związków między danymi.\n",
    "\n",
    "Główną cechą strukturalną sieci regularnych jest to, że wszystkie neurony są ze sobą połączone. Na przykład, gdy mamy obrazy o wymiarach 28 na 28 pikseli i tylko w skali szarości, ostatecznie będziemy mieć 784 (28 x 28 x 1) neuronów w warstwie, która wydaje się możliwa do zarządzania. Jednak większość obrazów ma znacznie więcej pikseli i nie są one w skali szarości. Dlatego, zakładając, że mamy zestaw kolorowych obrazów w 4K Ultra HD, będziemy mieli 26 542 080 (4096 x 2160 x 3) różnych neuronów połączonych ze sobą w pierwszej warstwie, co nie jest tak naprawdę możliwe do zarządzania. \n",
    "\n",
    "więcej: https://greenlogic.pl/blog/metody-stosowane-w-deep-learningu/\n"
   ]
  },
  {
   "cell_type": "markdown",
   "metadata": {},
   "source": [
    "### CNN - Konwolucyjne sieci neuronowe\n",
    "CNN należy do kategorii nadzorowanych algorytmów uczenia maszynowego. Algorytm uczy się na podstawie danych treningowych, np. Zestawu obrazów na wejściu i powiązanych etykiet na wyjściu.\n",
    "Polega ona na zasilaniu sieci neuronowej obrazami z zestawu szkoleniowego (features), i powiązanych z nimi etykiet (target) w celu poznania funkcji naszej sieci, __y = f(x)__. Po zapoznaniu się z parametrami funkcji sieci (wagą i odchyleniem) testujemy sieć z obrazami których jeszcze nie widzieliśmy w celu przewidzenia ich etykiety.\n",
    "\n",
    "![Image of CNN](https://miro.medium.com/max/772/1*kkyW7BR5FZJq4_oBTx3OPQ.png)\n",
    "\n",
    "więcej: https://cs231n.github.io/convolutional-networks/?source=post_page-----7b88342c9ca9----------------------  \n",
    "https://towardsdatascience.com/image-classification-in-10-minutes-with-mnist-dataset-54c35b77a38d"
   ]
  },
  {
   "cell_type": "markdown",
   "metadata": {},
   "source": [
    "### Warstwy w CNN\n",
    "Jesteśmy w stanie wykorzystywać wiele różnych warstw w Konwolucyjnej sieci neuronowe. Najważniejsze to:\n",
    "- Convolutional (konwolucyjna)\n",
    "- Pooling \n",
    "- Fully connect layers\n",
    "\n",
    "#### Convolutional\n",
    "Warstwa konwolucyjna to pierwsza warstwa, w której wydobywamy cechy z obrazów z naszego zbioru danych. Ze względu na fakt, że piksele są powiązane tylko z pikselami sąsiadującymi i bliskimi, warstwa konwolucyjna pozwala nam zachować związek między różnymi częściami obrazu. Konwolucja polega zasadniczo na filtrowaniu obrazu za pomocą mniejszego filtra pikseli, aby zmniejszyć rozmiar obrazu bez utraty relacji między pikselami. Kiedy zastosujemy splot do obrazu 5x5 za pomocą filtra 3x3 z krokiem 1x1 (przesunięcie o 1 piksel na każdym kroku). W efekcie uzyskamy wynik 3x3 (64% spadek złożoności).\n",
    "\n",
    "![](https://miro.medium.com/max/666/1*V7YGj0ZWil9V-i0k74QVSQ.png)\n",
    "\n",
    "Źródło: https://towardsdatascience.com/image-classification-in-10-minutes-with-mnist-dataset-54c35b77a38d\n",
    "\n",
    "\n",
    "#### Warstwa puli\n",
    "Przy budowaniu CNN częstym zjawiskiem jest wstawianie warstw puli (pooling layers) po każdej warstwie konwulcyjnej sieci, aby zmniejszyć rozmiar przestrzenny reprezentacji, aby zmniejszyć liczbę parametrów, co zmniejsza złożoność obliczeniową. Ponadto łączenie warstw pomaga również w przypadku problemu nadmiernego dopasowania. Zasadniczo wybieramy wielkość puli, aby zmniejszyć liczbę parametrów, wybierając wartości maksymalne, średnie lub sumy w tych pikselach. Max Pooling, jedną z najczęstszych technik łączenia, można wykazać w następujący sposób:\n",
    "\n",
    "![](https://miro.medium.com/max/304/1*oVOUhBIi59Gb5w7eBzqYuA.png)\n",
    "\n",
    "\n",
    "\n",
    "#### Zestaw w pełni połączonych warstw\n",
    "W pełni połączona sieć to nasza Konwolucyjna siec neuronowa, w której każdy parametr jest połączony ze sobą w celu ustalenia prawdziwej relacji i wpływu każdego parametru na etykiety. Ponieważ nasza złożoność czasoprzestrzenna jest znacznie zmniejszona dzięki warstwom splotu i puli, możemy ostatecznie zbudować w pełni połączoną sieć, aby klasyfikować nasze obrazy. Zestaw w pełni połączonych warstw wygląda następująco:\n",
    "\n",
    "![](https://miro.medium.com/max/447/1*jYc7Hq9dU4kHXqm_Yd6vmw.png)"
   ]
  },
  {
   "cell_type": "markdown",
   "metadata": {},
   "source": [
    "### Zbiór danych\n",
    "\n",
    "Do projektu wykorzystamy MINST DATA (Modified National Institute of Standards and Technology) - jest to jesten z najczęściej wykorzystywanych zbiorów danych do rozpoznawania obrazów. Ten zbiór danych zawiera ponad 70000 tyś przykładów pisanych ręcznie liczb całkowitych z przedziału (0-9). Liczby te mają formę 28x28 w skali szarości. \n"
   ]
  },
  {
   "cell_type": "code",
   "execution_count": 4,
   "metadata": {},
   "outputs": [],
   "source": [
    "import pandas as pd\n",
    "import numpy as np\n",
    "import seaborn as sns\n",
    "import matplotlib.pyplot as plt\n",
    "import warnings\n",
    "pd.options.display.float_format = \"{:.3f}\".format\n",
    "pd.set_option('display.max_columns',100)\n",
    "from matplotlib import rcParams\n",
    "rcParams['figure.figsize'] = 15,6\n",
    "sns.set(style='white')\n",
    "\n",
    "import tensorflow as tf\n"
   ]
  },
  {
   "cell_type": "code",
   "execution_count": 3,
   "metadata": {},
   "outputs": [],
   "source": [
    "(X_train, y_train), (X_test, y_test) = tf.keras.datasets.mnist.load_data()"
   ]
  },
  {
   "cell_type": "code",
   "execution_count": 7,
   "metadata": {},
   "outputs": [
    {
     "data": {
      "image/png": "[encoded data removed]",
      "text/plain": [
       "<Figure size 432x288 with 1 Axes>"
      ]
     },
     "metadata": {
      "needs_background": "light"
     },
     "output_type": "display_data"
    }
   ],
   "source": [
    "plt.imshow(X_train[3], cmap='Greys')\n",
    "plt.title('Przykładowy obraz z naszego zbioru danych');"
   ]
  },
  {
   "cell_type": "code",
   "execution_count": 8,
   "metadata": {},
   "outputs": [
    {
     "data": {
      "text/plain": [
       "(60000, 28, 28)"
      ]
     },
     "execution_count": 8,
     "metadata": {},
     "output_type": "execute_result"
    }
   ],
   "source": [
    "X_train.shape"
   ]
  },
  {
   "cell_type": "code",
   "execution_count": 10,
   "metadata": {},
   "outputs": [
    {
     "data": {
      "text/plain": [
       "(60000,)"
      ]
     },
     "execution_count": 10,
     "metadata": {},
     "output_type": "execute_result"
    }
   ],
   "source": [
    "y_train.shape"
   ]
  },
  {
   "cell_type": "code",
   "execution_count": 11,
   "metadata": {},
   "outputs": [
    {
     "data": {
      "text/plain": [
       "(10000, 28, 28)"
      ]
     },
     "execution_count": 11,
     "metadata": {},
     "output_type": "execute_result"
    }
   ],
   "source": [
    "X_test.shape"
   ]
  },
  {
   "cell_type": "markdown",
   "metadata": {},
   "source": [
    "Nasz zbiór obejmuje 60 000 obrazów o wymiarach 28x28 pixeli, natomiast nasz zbiór testowy to 10 000 obrazów. \n",
    "\n",
    "#### Normalizacja i zmiana kształyu danych\n",
    "Teraz aby skorzystać z Keras API, musimy zmienić kształ naszego zbioru danych. Potrzebujemy 4-wymiarowych tablic. Póki co mamy 3-wymiarowe tablice. Dodatkowo musimy dokonać normalizacji danych - jest to etap zawsze wymagany w celu zastosowania CNN. W celu osiągnięcia tego efektu możemy podzielić kody RGB przez 255.  \n",
    "\n"
   ]
  },
  {
   "cell_type": "code",
   "execution_count": 12,
   "metadata": {},
   "outputs": [
    {
     "data": {
      "text/plain": [
       "(60000, 28, 28, 1)"
      ]
     },
     "execution_count": 12,
     "metadata": {},
     "output_type": "execute_result"
    }
   ],
   "source": [
    "# Zmiana kształtu z 3 dim na 4 dim\n",
    "X_train = X_train.reshape(X_train.shape[0], 28, 28, 1)\n",
    "X_test = X_test.reshape(X_test.shape[0], 28, 28, 1)\n",
    "shape = (28, 28, 1)\n",
    "\n",
    "X_train = X_train.astype('float32')\n",
    "X_test = X_test.astype('float32')\n",
    "\n",
    "# Dzielenie przez 255 \n",
    "X_train /= 255\n",
    "X_test /= 255\n",
    "\n",
    "X_train.shape\n"
   ]
  },
  {
   "cell_type": "code",
   "execution_count": 13,
   "metadata": {},
   "outputs": [],
   "source": [
    "## https://towardsdatascience.com/image-classification-in-10-minutes-with-mnist-dataset-54c35b77a38d\n",
    "## https://towardsdatascience.com/convolutional-neural-network-for-image-classification-with-implementation-on-python-using-pytorch-7b88342c9ca9 \n",
    "## https://medium.com/@himanshubeniwal/handwritten-digit-recognition-using-machine-learning-ad30562a9b64\n",
    "## https://github.com/zishansami102/CNN-from-Scratch"
   ]
  },
  {
   "cell_type": "code",
   "execution_count": null,
   "metadata": {},
   "outputs": [],
   "source": []
  }
 ],
 "metadata": {
  "kernelspec": {
   "display_name": "Python 3",
   "language": "python",
   "name": "python3"
  },
  "language_info": {
   "codemirror_mode": {
    "name": "ipython",
    "version": 3
   },
   "file_extension": ".py",
   "mimetype": "text/x-python",
   "name": "python",
   "nbconvert_exporter": "python",
   "pygments_lexer": "ipython3",
   "version": "3.7.4"
  }
 },
 "nbformat": 4,
 "nbformat_minor": 2
}
