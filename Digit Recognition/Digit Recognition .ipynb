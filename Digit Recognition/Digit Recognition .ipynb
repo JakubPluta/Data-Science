{
 "cells": [
  {
   "cell_type": "markdown",
   "metadata": {},
   "source": [
    "## Cel Projektu\n",
    "\n",
    "Celem projektu jest zapoznanie się z obszarem uczenia maszynowego jakim jest \"Deep Learning\". Wykorzystamy tutaj CNN w celu stworzenia algorytmu do rozpoznawania obrazów. \n",
    "\n",
    "\n",
    "### Deep learning - głębokie uczenie. \n",
    "\n",
    "Deep Learning -  cześć uczenia maszynowego, jedna z gałęzi sztucznej inteligencji, która opiera się na budowaniu sieci neuronowych, czyli takich systemów informatycznych, których budowa i funkcjonowanie przypomina pracę ludzkiego mózgu. Deep learning można określić procesem w ramach, którego komputer uczy się zadań naturalnych dla mózgu ludzkiego. Możemy tutaj wymienić np. identyfikacja obrazów, prognozowanie, rozpoznowanie mowy. Komputer przy deep learningu gromadzi podstawowe parametry, cechy dotyczące danych i na ich podstawie stara się rozpoznować wzorce poprzez zastosowanie wielu warst przetwarzania. \n",
    "\n",
    "Sieć neuronowa (sztuczna sieć neuronowa) – ogólna nazwa struktur matematycznych i ich programowych lub sprzętowych modeli, realizujących obliczenia lub przetwarzanie sygnałów poprzez rzędy elementów przetwarzających, zwanych sztucznymi neuronami, wykonujących pewną podstawową operację na swoim wejściu. Oryginalną inspiracją takiej struktury była budowa naturalnych neuronów, łączących je synaps, oraz układów nerwowych, w szczególności mózgu.Jest to ogromna ilość połączonych ze sobą, jednocześnie działających procesorów. Każdy z nich posiada dostęp do pamięci lokalnej, i jest zasilany dużą ilością danych oraz informacją na temat związków między danymi.\n",
    "\n",
    "Główną cechą strukturalną sieci regularnych jest to, że wszystkie neurony są ze sobą połączone. Na przykład, gdy mamy obrazy o wymiarach 28 na 28 pikseli i tylko w skali szarości, ostatecznie będziemy mieć 784 (28 x 28 x 1) neuronów w warstwie, która wydaje się możliwa do zarządzania. Jednak większość obrazów ma znacznie więcej pikseli i nie są one w skali szarości. Dlatego, zakładając, że mamy zestaw kolorowych obrazów w 4K Ultra HD, będziemy mieli 26 542 080 (4096 x 2160 x 3) różnych neuronów połączonych ze sobą w pierwszej warstwie, co nie jest tak naprawdę możliwe do zarządzania. \n",
    "\n",
    "więcej: https://greenlogic.pl/blog/metody-stosowane-w-deep-learningu/\n"
   ]
  },
  {
   "cell_type": "markdown",
   "metadata": {},
   "source": [
    "### CNN - Konwolucyjne sieci neuronowe\n",
    "CNN należy do kategorii nadzorowanych algorytmów uczenia maszynowego. Algorytm uczy się na podstawie danych treningowych, np. Zestawu obrazów na wejściu i powiązanych etykiet na wyjściu.\n",
    "Polega ona na zasilaniu sieci neuronowej obrazami z zestawu szkoleniowego (features), i powiązanych z nimi etykiet (target) w celu poznania funkcji naszej sieci, __y = f(x)__. Po zapoznaniu się z parametrami funkcji sieci (wagą i odchyleniem) testujemy sieć z obrazami których jeszcze nie widzieliśmy w celu przewidzenia ich etykiety.\n",
    "\n",
    "![Image of CNN](https://miro.medium.com/max/772/1*kkyW7BR5FZJq4_oBTx3OPQ.png)\n",
    "\n",
    "więcej: https://cs231n.github.io/convolutional-networks/?source=post_page-----7b88342c9ca9----------------------  \n",
    "https://towardsdatascience.com/image-classification-in-10-minutes-with-mnist-dataset-54c35b77a38d"
   ]
  },
  {
   "cell_type": "markdown",
   "metadata": {},
   "source": [
    "### Warstwy w CNN\n",
    "Jesteśmy w stanie wykorzystywać wiele różnych warstw w Konwolucyjnej sieci neuronowe. Najważniejsze to:\n",
    "- Convolutional (konwolucyjna)\n",
    "- Pooling \n",
    "- Fully connect layers\n",
    "\n",
    "#### Convolutional\n",
    "Warstwa konwolucyjna to pierwsza warstwa, w której wydobywamy cechy z obrazów z naszego zbioru danych. Ze względu na fakt, że piksele są powiązane tylko z pikselami sąsiadującymi i bliskimi, warstwa konwolucyjna pozwala nam zachować związek między różnymi częściami obrazu. Konwolucja polega zasadniczo na filtrowaniu obrazu za pomocą mniejszego filtra pikseli, aby zmniejszyć rozmiar obrazu bez utraty relacji między pikselami. Kiedy zastosujemy splot do obrazu 5x5 za pomocą filtra 3x3 z krokiem 1x1 (przesunięcie o 1 piksel na każdym kroku). W efekcie uzyskamy wynik 3x3 (64% spadek złożoności).\n",
    "\n",
    "![](https://miro.medium.com/max/666/1*V7YGj0ZWil9V-i0k74QVSQ.png)\n",
    "\n",
    "Źródło: https://towardsdatascience.com/image-classification-in-10-minutes-with-mnist-dataset-54c35b77a38d\n",
    "\n",
    "\n",
    "#### Warstwa puli\n",
    "Przy budowaniu CNN częstym zjawiskiem jest wstawianie warstw puli (pooling layers) po każdej warstwie konwulcyjnej sieci, aby zmniejszyć rozmiar przestrzenny reprezentacji, aby zmniejszyć liczbę parametrów, co zmniejsza złożoność obliczeniową. Ponadto łączenie warstw pomaga również w przypadku problemu nadmiernego dopasowania. Zasadniczo wybieramy wielkość puli, aby zmniejszyć liczbę parametrów, wybierając wartości maksymalne, średnie lub sumy w tych pikselach. Max Pooling, jedną z najczęstszych technik łączenia, można wykazać w następujący sposób:\n",
    "\n",
    "![](https://miro.medium.com/max/304/1*oVOUhBIi59Gb5w7eBzqYuA.png)\n",
    "\n",
    "\n",
    "\n",
    "#### Zestaw w pełni połączonych warstw\n",
    "W pełni połączona sieć to nasza Konwolucyjna siec neuronowa, w której każdy parametr jest połączony ze sobą w celu ustalenia prawdziwej relacji i wpływu każdego parametru na etykiety. Ponieważ nasza złożoność czasoprzestrzenna jest znacznie zmniejszona dzięki warstwom splotu i puli, możemy ostatecznie zbudować w pełni połączoną sieć, aby klasyfikować nasze obrazy. Zestaw w pełni połączonych warstw wygląda następująco:\n",
    "\n",
    "![](https://miro.medium.com/max/447/1*jYc7Hq9dU4kHXqm_Yd6vmw.png)"
   ]
  },
  {
   "cell_type": "markdown",
   "metadata": {},
   "source": [
    "### Zbiór danych\n",
    "\n",
    "Do projektu wykorzystamy MINST DATA (Modified National Institute of Standards and Technology) - jest to jesten z najczęściej wykorzystywanych zbiorów danych do rozpoznawania obrazów. Ten zbiór danych zawiera ponad 70000 tyś przykładów pisanych ręcznie liczb całkowitych z przedziału (0-9). Liczby te mają formę 28x28 w skali szarości. \n"
   ]
  },
  {
   "cell_type": "code",
   "execution_count": 1,
   "metadata": {},
   "outputs": [
    {
     "name": "stderr",
     "output_type": "stream",
     "text": [
      "Using TensorFlow backend.\n"
     ]
    }
   ],
   "source": [
    "import pandas as pd\n",
    "import numpy as np\n",
    "import seaborn as sns\n",
    "import matplotlib.pyplot as plt\n",
    "import warnings\n",
    "pd.options.display.float_format = \"{:.3f}\".format\n",
    "pd.set_option('display.max_columns',100)\n",
    "from matplotlib import rcParams\n",
    "rcParams['figure.figsize'] = 15,6\n",
    "sns.set(style='white')\n",
    "\n",
    "import tensorflow as tf\n",
    "import keras\n",
    "from keras.datasets import mnist\n",
    "from keras.models import Sequential\n",
    "from keras.layers import Dense, Dropout, Flatten, Conv2D, MaxPool2D\n",
    "from keras.utils.np_utils import to_categorical # convert to one-hot-encoding\n",
    "from keras.optimizers import RMSprop\n",
    "from keras.preprocessing.image import ImageDataGenerator\n",
    "from keras.callbacks import ReduceLROnPlateau\n",
    "\n",
    "from sklearn.metrics import confusion_matrix\n",
    "import itertools\n",
    "\n",
    "\n",
    "def annotate(ax,s=\"%.2f\",suffix=''):\n",
    "    for p in ax.patches:\n",
    "        ax.annotate(s % p.get_height() + suffix, \n",
    "                 (p.get_x() + p.get_width() / 2,\n",
    "                  p.get_height()), ha='center', va='center', xytext=(0, 10), textcoords='offset points')\n"
   ]
  },
  {
   "cell_type": "code",
   "execution_count": 2,
   "metadata": {},
   "outputs": [],
   "source": [
    "(x_train, y_train), (x_test, y_test) = mnist.load_data()"
   ]
  },
  {
   "cell_type": "code",
   "execution_count": 3,
   "metadata": {},
   "outputs": [
    {
     "data": {
      "image/png": "[encoded data removed]",
      "text/plain": [
       "<Figure size 1080x360 with 1 Axes>"
      ]
     },
     "metadata": {
      "needs_background": "light"
     },
     "output_type": "display_data"
    }
   ],
   "source": [
    "f,ax = plt.subplots(figsize=(15,5))\n",
    "c1 = sns.countplot(y_train,palette='tab20c_r')\n",
    "sns.despine(left=True)\n",
    "annotate(c1,s=\"%.0f\",suffix='')"
   ]
  },
  {
   "cell_type": "code",
   "execution_count": 4,
   "metadata": {},
   "outputs": [
    {
     "data": {
      "image/png": "[encoded data removed]",
      "text/plain": [
       "<Figure size 432x288 with 1 Axes>"
      ]
     },
     "metadata": {
      "needs_background": "light"
     },
     "output_type": "display_data"
    }
   ],
   "source": [
    "plt.imshow(x_train[3], cmap='Greys')\n",
    "plt.title('Przykładowy obraz z naszego zbioru danych');"
   ]
  },
  {
   "cell_type": "code",
   "execution_count": 5,
   "metadata": {},
   "outputs": [
    {
     "data": {
      "text/plain": [
       "(60000, 28, 28)"
      ]
     },
     "execution_count": 5,
     "metadata": {},
     "output_type": "execute_result"
    }
   ],
   "source": [
    "x_train.shape"
   ]
  },
  {
   "cell_type": "code",
   "execution_count": 6,
   "metadata": {},
   "outputs": [
    {
     "data": {
      "text/plain": [
       "(60000,)"
      ]
     },
     "execution_count": 6,
     "metadata": {},
     "output_type": "execute_result"
    }
   ],
   "source": [
    "y_train.shape"
   ]
  },
  {
   "cell_type": "code",
   "execution_count": 7,
   "metadata": {},
   "outputs": [
    {
     "data": {
      "text/plain": [
       "(10000, 28, 28)"
      ]
     },
     "execution_count": 7,
     "metadata": {},
     "output_type": "execute_result"
    }
   ],
   "source": [
    "x_test.shape"
   ]
  },
  {
   "cell_type": "code",
   "execution_count": 8,
   "metadata": {},
   "outputs": [],
   "source": [
    "x_train = x_train / 255.0\n",
    "x_test = x_test / 255.0"
   ]
  },
  {
   "cell_type": "markdown",
   "metadata": {},
   "source": [
    "Nasz zbiór obejmuje 60 000 obrazów o wymiarach 28x28 pixeli, natomiast nasz zbiór testowy to 10 000 obrazów.\n",
    "Części X_train i X_test zawierają kody RGB w skali szarości (od 0 do 255), podczas gdy części Y_train i Y_test zawierają etykiety od 0 do 9, które reprezentują liczbę, którą faktycznie mają. \n",
    "\n",
    "\n",
    "#### Normalizacja i zmiana kształyu danych\n",
    "Teraz aby skorzystać z Keras API, musimy zmienić kształ naszego zbioru danych. Potrzebujemy 4-wymiarowych tablic. Póki co mamy 3-wymiarowe tablice.\n"
   ]
  },
  {
   "cell_type": "code",
   "execution_count": 9,
   "metadata": {},
   "outputs": [],
   "source": [
    "# Zmiana kształtu z 3 dim na 4 dim\n",
    "\n",
    "num_classes = 10\n",
    "\n",
    "\n",
    "x_train = x_train.reshape(60000,28,28,1)\n",
    "x_test = x_test.reshape(10000,28,28,1)\n",
    "\n",
    "shape0 = (28, 28, 1)\n",
    "\n",
    "\n",
    "y_train = keras.utils.to_categorical(y_train, num_classes)\n",
    "y_test = keras.utils.to_categorical(y_test, num_classes)\n"
   ]
  },
  {
   "cell_type": "markdown",
   "metadata": {},
   "source": [
    "CNN są szeroko używane na świecie przez takie podmioty jak Facebook, który używa sieci neuronowych do automatycznego etykietowania słów, google używa sieci neuronowych do wyszukiwania zdjęć, Amazon do rekomendacji produktów natomiast Pintrest i Instagram do personalizacji wyników wyszukiwania.  Dzięki Sieciom Neuronowym jesteśmy w stanie szybko rozpoznać wzorce bazując na wcześniejszych informacjach i wiedzy\n",
    "\n",
    "![](https://miro.medium.com/max/636/1*u_kP2X3t2LF_WyiLwL57Gg.png)\n",
    "Źródło: https://medium.com/@himanshubeniwal/handwritten-digit-recognition-using-machine-learning-ad30562a9b64\n",
    "\n",
    "Jak widzimy na powyższym zdjęciu, my widzimy zdjęcie z pieskami, natomaist komputer widzi macierz liczb.\n",
    "\n",
    "Komputer widzi tablicę wartości pikseli. Załóżmy, że 480 * 480 * 3, gdzie 480 * 480 jest rozmiarem, 3 odnosi się do wartości RGB. Każda z tych liczb ma przypisaną wartość od 0 do 255 jako intensywność pikseli w tym punkcie. Kluczową kwestią jest to, że w oparciu o przyjęcie obrazu jako danych wejściowych, system komputerowy przewiduje i przyjmuje założenie jako dane wyjściowe do opisu prawdopodobieństwa, że obraz będzie wspomnianą lub pewną klasą (powiedzmy 0,90 dla klasy 1, 0,96 dla klasy 2, 0,4 dla klasy klasa 3).\n",
    "\n",
    "\n",
    "Konwolucyjne sieci neuronowe (Convolutional Neural Network - CNN) składają się z jednej lub wielu warstw konwolucyjnych (typowych dla kroku próbkowania, określającego subwzorce), a następnie przez jedną lub w pełni połączone warstwy tak jak w klasycznej wielowarstwowejsieci, np. MLP, SVM, SoftMax itp. Głęboka sieć konwolucyjna zawiera wiele warstw. Sieci kowolucyjne są łatwe do uczenia, gdyż zawierają mniej parametrów (wykorzystując te same wagi) niż typowe sieci neuronowe z dokładnością do ilości warstw konwolucyjnych i ich rozmiaru.\n",
    "\n",
    "\n",
    "Przykład sieci konwolucyjnej:\n",
    "1. Obraz wejściowy [32x32x3], gdzie trzeci parametr koduje kolor dla poszczególnych składowych from R, G, i B.\n",
    "2. Warstwa konwolucyjna (CONV) oblicza wyjście dla neuronów podłączonych do lokalnych regionów w obrazie\n",
    "wejściowym, a każda warstwa wyznacza iloczyn skalarny (dot product) pomiędzy ich wagami i małym\n",
    "regionem w obrazie wejściowym. To może prowadzić do wyników zapisanych w np. 8 warstwach\n",
    "konwolucyjnych o tym samym rozmiarze, co zapisujemy jako [32x32x8] gdzie 8 to ilość filtrów konwolucyjnych.\n",
    "3. Warstawa ReLU (RELU) stosuje funkcję ReLU (określoną jako max(0,x)) z zerowym progiem. Wymiar klastra\n",
    "macierzy dla tej warstwy pozostaje niezmieniony wielkości, czyli [32x32x8] dla powyższego przykładu.\n",
    "4. Warstwa łączenia (POOL) przeprowadza operację próbkowania przestrzennego względem wysokości\n",
    "i szerokości (wyznaczając np. maksimum dla MaxPooling), co skutkuje wynikowym wymiarem np. [16x16x8].\n",
    "5. Warstwa połączeń każdy-z-każdym (FCNN) oblicza wynik klasyfikacji, co skutkuje wymiarem wyjściowym,\n",
    "np. [1x1x5], dla 5 klas/kategorii, czyli po jednym neuronie wyjściowym dla każdej klasy. Ta warstwa uczona\n",
    "jest metodą uczenia nadzorowanego (zwykle jakąś metodą gradientową, np. propagacją wsteczną błędów)\n",
    "i jest połączona z poprzednią warstwą na zasadzie każdy-z-każdym.\n",
    "\n",
    "\n",
    "http://home.agh.edu.pl/~horzyk/lectures/ai/SztucznaInteligencja-UczenieG%C5%82%C4%99bokichSieciNeuronowych.pdf\n"
   ]
  },
  {
   "cell_type": "markdown",
   "metadata": {},
   "source": [
    "#### Opis modelu:\n",
    "\n",
    "Wykorzystamy tutaj Sekwencyjny Model, który pozwala tworzyć modele warstwa po warstwie dla większości problemów. Jest ograniczony, ponieważ nie pozwala na tworzenie modeli, które współ-użytkują warstwy lub mają wiele wejść lub wyjść.\n",
    "\n",
    "Pierwszą jest warstwa Konwolucyjna (Conv2D). To jest jak zestaw możliwych do nauczenia filtrów. Wybiaramy 32 filtry dla dwóch pierwszych warstw conv2D i 64 filtry dla dwóch ostatnich. Każdy filtr przekształca część obrazu (zdefiniowaną przez rozmiar jądra) za pomocą filtra jądra. Macierz jądra (kerneli) jest stosowana na całym obrazie. Filtry można postrzegać jako transformację obrazu. CNN może izolować cechy, które są przydatne wszędzie z tych przekształconych obrazów (map cech).\n",
    "\n",
    "Drugą ważną warstwą w CNN jest warstwa puli (MaxPool2D). Ta warstwa po prostu działa jak filtr downsamplingu. Patrzy na 2 sąsiednie piksele i wybiera maksymalną wartość. Są one stosowane w celu zmniejszenia kosztów obliczeniowych, a do pewnego stopnia również zmniejszenia nadmiernego dopasowania. Musimy wybrać rozmiar puli, im większy jest wymiar puli, tym ważniejszy jest downsampling. \n",
    "\n",
    "Łącząc warstwy konwolucyjne i wartwy puli (convolutional i pooling), CNN jest w stanie łączyć lokalne cechy i dowiedzieć się więcej o globalnych cechach obrazu.\n",
    "\n",
    "Dropout - to metoda regularyzacji, w której część węzłów w warstwie jest losowo ignorowana (ustawiając ich wagi na zero) dla każdej próbki treningowej. Losowo spada na zaproponowaną sieć i zmusza ją do uczenia się cech w sposób rozproszony. Ta technika poprawia również uogólnienie i zmniejsza nadmierne dopasowanie.\n",
    "\n",
    "Relu - to funkcja aktywacji max (0, x). Funkcja aktywacji służy do dodania nieliniowości do sieci.\n",
    "\n",
    "Flatten -  służy do przekształcania ostatecznych map cech w jeden wektor 1D. Ten etap spłaszczania jest potrzebny, aby można było użyć w pełni połączonych warstw po niektórych warstwach konwolucyjnych / maxpool. Łączy wszystkie znalezione cechy lokalne poprzednich warstw konwolucyjnych.\n",
    "\n",
    "\n",
    "Czyli model wygląda mniej więcej tak: \n",
    "    1. Input\n",
    "    2. [[Conv2D->relu]*2 -> MaxPool2D -> Dropout]*2 \n",
    "    3. Flatten\n",
    "    4. Dense\n",
    "    5. Dropout\n",
    "    6. Output"
   ]
  },
  {
   "cell_type": "code",
   "execution_count": 10,
   "metadata": {},
   "outputs": [],
   "source": [
    "model = Sequential()\n",
    "model.add(Conv2D(filters = 32, kernel_size = (5,5),padding = 'Same', \n",
    "                 activation ='relu', input_shape = (28,28,1)))\n",
    "model.add(Conv2D(filters = 32, kernel_size = (5,5),padding = 'Same', \n",
    "                 activation ='relu'))\n",
    "model.add(MaxPool2D(pool_size=(2,2)))\n",
    "model.add(Dropout(0.25))\n",
    "\n",
    "model.add(Conv2D(filters = 64, kernel_size = (3,3),padding = 'Same', \n",
    "                 activation ='relu'))\n",
    "model.add(Conv2D(filters = 64, kernel_size = (3,3),padding = 'Same', \n",
    "                 activation ='relu'))\n",
    "model.add(MaxPool2D(pool_size=(2,2), strides=(2,2)))\n",
    "model.add(Dropout(0.25))\n",
    "\n",
    "model.add(Flatten())\n",
    "model.add(Dense(256, activation = \"relu\"))\n",
    "model.add(Dropout(0.5))\n",
    "model.add(Dense(10, activation = \"softmax\"))"
   ]
  },
  {
   "cell_type": "markdown",
   "metadata": {},
   "source": [
    "#### Optymalizator \n",
    "\n",
    "Po dodaniu naszych warstw do modelu musimy skonfigurować loss function, score function i algorytm optymalizacji.\n",
    "\n",
    "Definiujemy loss function, aby zmierzyć, jak słabo działa nasz model na obrazach o znanych etykietach. Jest to poziom błędu między obserwowanymi i przewidywanymi etykietami. Używamy specjalnego formularza do klasyfikacji kategorialnych o nazwie 'categorical_crossentropy'\n",
    "\n",
    "Najważniejszą funkcją naszego modelu jest optymalizator. Ta funkcja będzie iteracyjnie poprawiała parametry modelu i sprawiała, że będzie on z każdą iteracją coraz lepszy. (filtruje wartości jądra, wagi i odchylenie neuronów) w celu zminimalizowania strat. Użyjemy do tego modelu optymalizatora __RMSprop__, który dostosowuje metodę Adagrad w bardzo prosty sposób, próbując zmniejszyć jej agresywną, monotonicznie malejącą szybkość uczenia się.\n",
    "\n",
    "Wydajność naszego modelu zmierzymy za pomocą funkcji \"accuracy\", która służy do oceny wydajności modelu. Ta metryka jest podobna do loss function, z tym wyjątkiem, że wyniki oceny metryki nie są używane podczas szkolenia modelu (jedynie do oceny modelu).\n",
    "\n",
    "LR (learning rate reduction) jest krokiem, przez który optymalizator przechodzi przez „loss landscape”. Im wyższy LR, tym większe są kroki i tym szybciej dochodzi zbieżności. Jednak próbkowanie jest bardzo słabe przy wysokiej wartości LR, a optymalizator prawdopodobnie spadnie do lokalnych minimów. Lepiej mieć malejący wskaźnik uczenia się podczas szkolenia, aby skutecznie osiągnąć globalne minimum 'loss function'.Dzięki funkcji ReduceLROnPlateau z Keras.callback, możemy wybrać zmniejszenie LR o połowę, jeśli dokładność nie ulegnie poprawie po 3 epochs.\n",
    "\n",
    "#### Agumentacja danych (zwiększnie ilości danych)\n",
    "\n",
    "\n",
    "W celu uniknięcia problemu zbytniego dopasowania, stowrzymy sztucznie nasz zestaw danych. Chodzi o zmianę danych treningowych za pomocą małych transformacji, aby odtworzyć zmiany występujące, gdy ktoś pisze cyfrę. Na przykład liczba nie jest wyśrodkowana skala nie jest taka sama, obraz jest obracany. Podejścia, które zmieniają dane treningowe w sposób, który zmienia reprezentację macierzy przy jednoczesnym zachowaniu tej samej etykiety, są znane jako techniki agumentacji danych. Niektóre popularne rozszerzenia, których używają ludzie, to skala szarości, poziome odwrócenie, pionowe odwrócenie, losowe kadrowanie, drżenie kolorów, tłumaczenia, rotacje i wiele innych. Stosując tylko kilka tych transformacji do naszych danych treningowych, możemy łatwo podwoić lub potroić liczbę przykładów treningów i stworzyć bardzo silny model."
   ]
  },
  {
   "cell_type": "code",
   "execution_count": 11,
   "metadata": {},
   "outputs": [],
   "source": [
    "optimizer = RMSprop(lr=0.001, rho=0.9, epsilon=1e-08, decay=0.0)"
   ]
  },
  {
   "cell_type": "code",
   "execution_count": 12,
   "metadata": {},
   "outputs": [],
   "source": [
    "model.compile(optimizer = optimizer , loss = \"categorical_crossentropy\", metrics=[\"accuracy\"])\n",
    "\n",
    "learning_rate_reduction = ReduceLROnPlateau(monitor='val_accuracy', \n",
    "                                            patience=3, \n",
    "                                            verbose=1, \n",
    "                                            factor=0.5, \n",
    "                                            min_lr=0.00001)\n",
    "\n",
    "\n",
    "\n",
    "epochs = 3 # \n",
    "batch_size = 86\n",
    "\n",
    "datagen = ImageDataGenerator(\n",
    "        featurewise_center=False,  # set input mean to 0 over the dataset\n",
    "        samplewise_center=False,  # set each sample mean to 0\n",
    "        featurewise_std_normalization=False,  # divide inputs by std of the dataset\n",
    "        samplewise_std_normalization=False,  # divide each input by its std\n",
    "        zca_whitening=False,  # apply ZCA whitening\n",
    "        rotation_range=10,  # randomly rotate images in the range (degrees, 0 to 180)\n",
    "        zoom_range = 0.1, # Randomly zoom image \n",
    "        width_shift_range=0.1,  # randomly shift images horizontally (fraction of total width)\n",
    "        height_shift_range=0.1,  # randomly shift images vertically (fraction of total height)\n",
    "        horizontal_flip=False,  # randomly flip images\n",
    "        vertical_flip=False)  # randomly flip images\n",
    "\n",
    "\n",
    "datagen.fit(x_train)"
   ]
  },
  {
   "cell_type": "code",
   "execution_count": 13,
   "metadata": {},
   "outputs": [
    {
     "name": "stdout",
     "output_type": "stream",
     "text": [
      "Epoch 1/3\n",
      " - 153s - loss: 0.3117 - accuracy: 0.9019 - val_loss: 0.0530 - val_accuracy: 0.9830\n",
      "Epoch 2/3\n",
      " - 150s - loss: 0.1054 - accuracy: 0.9683 - val_loss: 0.0238 - val_accuracy: 0.9924\n",
      "Epoch 3/3\n",
      " - 147s - loss: 0.0782 - accuracy: 0.9769 - val_loss: 0.0297 - val_accuracy: 0.9902\n"
     ]
    }
   ],
   "source": [
    "mdl = model.fit_generator(datagen.flow(x_train,y_train, batch_size=batch_size),\n",
    "                              epochs = epochs, validation_data = (x_test,y_test),\n",
    "                              verbose = 2, steps_per_epoch=x_train.shape[0] // batch_size\n",
    "                              , callbacks=[learning_rate_reduction])"
   ]
  },
  {
   "cell_type": "code",
   "execution_count": 14,
   "metadata": {},
   "outputs": [],
   "source": [
    "### https://www.kaggle.com/yassineghouzam/introduction-to-cnn-keras-0-997-top-6"
   ]
  },
  {
   "cell_type": "code",
   "execution_count": 18,
   "metadata": {},
   "outputs": [
    {
     "name": "stdout",
     "output_type": "stream",
     "text": [
      "10000/10000 [==============================] - 5s 525us/step\n",
      "0.02968183762923727 0.9901999831199646\n"
     ]
    }
   ],
   "source": [
    "val_loss, val_acc = model.evaluate(x_test, y_test)\n",
    "print(val_loss, val_acc )"
   ]
  },
  {
   "cell_type": "code",
   "execution_count": 20,
   "metadata": {},
   "outputs": [],
   "source": [
    "results = model.predict(x_test)\n",
    "\n",
    "# select the indix with the maximum probability\n",
    "results = np.argmax(results,axis = 1)\n",
    "\n",
    "results = pd.Series(results,name=\"Label\")"
   ]
  },
  {
   "cell_type": "code",
   "execution_count": 21,
   "metadata": {},
   "outputs": [
    {
     "data": {
      "text/plain": [
       "0       7\n",
       "1       2\n",
       "2       1\n",
       "3       0\n",
       "4       4\n",
       "       ..\n",
       "9995    2\n",
       "9996    3\n",
       "9997    4\n",
       "9998    5\n",
       "9999    6\n",
       "Name: Label, Length: 10000, dtype: int64"
      ]
     },
     "execution_count": 21,
     "metadata": {},
     "output_type": "execute_result"
    }
   ],
   "source": [
    "results"
   ]
  },
  {
   "cell_type": "code",
   "execution_count": 25,
   "metadata": {},
   "outputs": [],
   "source": [
    "sub = pd.concat([pd.Series(range(1,len(results)),name = \"ImageId\"),results],axis = 1)\n",
    "sub.to_csv(\"submission.csv\",index=False)"
   ]
  }
 ],
 "metadata": {
  "kernelspec": {
   "display_name": "Python 3",
   "language": "python",
   "name": "python3"
  },
  "language_info": {
   "codemirror_mode": {
    "name": "ipython",
    "version": 3
   },
   "file_extension": ".py",
   "mimetype": "text/x-python",
   "name": "python",
   "nbconvert_exporter": "python",
   "pygments_lexer": "ipython3",
   "version": "3.7.4"
  }
 },
 "nbformat": 4,
 "nbformat_minor": 2
}
