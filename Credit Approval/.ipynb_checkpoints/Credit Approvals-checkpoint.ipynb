{
 "cells": [
  {
   "cell_type": "code",
   "execution_count": 1,
   "metadata": {},
   "outputs": [],
   "source": [
    "import pandas as pd\n",
    "import numpy as np\n",
    "import seaborn as sns\n",
    "import matplotlib.pyplot as plt\n",
    "import warnings\n",
    "\n",
    "pd.options.display.float_format = \"{:.3f}\".format\n",
    "pd.set_option('display.max_columns',100)\n",
    "\n",
    "from matplotlib import rcParams\n",
    "rcParams['figure.figsize'] = 15,6\n",
    "sns.set(style='white')"
   ]
  },
  {
   "cell_type": "markdown",
   "metadata": {},
   "source": [
    "## Funkcje"
   ]
  },
  {
   "cell_type": "code",
   "execution_count": 2,
   "metadata": {},
   "outputs": [],
   "source": [
    "def counts_pct(category,data):\n",
    "    '''Funkcja, która zwraca dla tanej kategori liczbe wartości, oraz wartość procentową'''\n",
    "    base = data[category].value_counts()\n",
    "    pct = base/data[category].shape[0] * 100\n",
    "    joined = pd.concat([base,pct],axis=1)\n",
    "    joined.columns = [str(category),str(category) + ' %']\n",
    "    return joined\n",
    "\n",
    "def education(x):\n",
    "    if x == 1: return 'graduate school'\n",
    "    elif x == 2: return 'university'\n",
    "    elif x == 3: return 'high school'\n",
    "    else: return 'others'\n",
    "    \n",
    "def martials(x):\n",
    "    # Marital status (1=married, 2=single, 3=others)\n",
    "    if x == 1: return 'married'\n",
    "    elif x == 2 : return 'single'\n",
    "    else: return 'other'\n",
    "    \n",
    "\n",
    "def annotate(ax,s=\"%.2f\",suffix=''):\n",
    "    for p in ax.patches:\n",
    "        ax.annotate(s % p.get_height() + suffix, \n",
    "                 (p.get_x() + p.get_width() / 2,\n",
    "                  p.get_height()), ha='center', va='center', xytext=(0, 10), textcoords='offset points')\n",
    "      \n",
    "def despine(rot=0):\n",
    "    sns.despine(left=True)\n",
    "    plt.xticks(rotation = rot);\n",
    "    plt.xlabel('');\n",
    "    plt.ylabel('');\n",
    "    \n",
    "def cross_pct(c1, c2):\n",
    "    cross = pd.crosstab(data[c1], data[c2])\n",
    "    cross['DEFAULT %'] = cross[1]/(cross[0]+cross[1]) * 100 \n",
    "    return cross"
   ]
  },
  {
   "cell_type": "code",
   "execution_count": 3,
   "metadata": {},
   "outputs": [],
   "source": [
    "data = pd.read_csv('train.csv')"
   ]
  },
  {
   "cell_type": "code",
   "execution_count": 4,
   "metadata": {},
   "outputs": [
    {
     "data": {
      "text/html": [
       "<div>\n",
       "<style scoped>\n",
       "    .dataframe tbody tr th:only-of-type {\n",
       "        vertical-align: middle;\n",
       "    }\n",
       "\n",
       "    .dataframe tbody tr th {\n",
       "        vertical-align: top;\n",
       "    }\n",
       "\n",
       "    .dataframe thead th {\n",
       "        text-align: right;\n",
       "    }\n",
       "</style>\n",
       "<table border=\"1\" class=\"dataframe\">\n",
       "  <thead>\n",
       "    <tr style=\"text-align: right;\">\n",
       "      <th></th>\n",
       "      <th>ID</th>\n",
       "      <th>LIMIT_BAL</th>\n",
       "      <th>SEX</th>\n",
       "      <th>EDUCATION</th>\n",
       "      <th>MARRIAGE</th>\n",
       "      <th>AGE</th>\n",
       "      <th>PAY_0</th>\n",
       "      <th>PAY_2</th>\n",
       "      <th>PAY_3</th>\n",
       "      <th>PAY_4</th>\n",
       "      <th>PAY_5</th>\n",
       "      <th>PAY_6</th>\n",
       "      <th>BILL_AMT1</th>\n",
       "      <th>BILL_AMT2</th>\n",
       "      <th>BILL_AMT3</th>\n",
       "      <th>BILL_AMT4</th>\n",
       "      <th>BILL_AMT5</th>\n",
       "      <th>BILL_AMT6</th>\n",
       "      <th>PAY_AMT1</th>\n",
       "      <th>PAY_AMT2</th>\n",
       "      <th>PAY_AMT3</th>\n",
       "      <th>PAY_AMT4</th>\n",
       "      <th>PAY_AMT5</th>\n",
       "      <th>PAY_AMT6</th>\n",
       "      <th>DEFAULT</th>\n",
       "    </tr>\n",
       "  </thead>\n",
       "  <tbody>\n",
       "    <tr>\n",
       "      <td>0</td>\n",
       "      <td>1</td>\n",
       "      <td>20000.000</td>\n",
       "      <td>2</td>\n",
       "      <td>2</td>\n",
       "      <td>1</td>\n",
       "      <td>24</td>\n",
       "      <td>2</td>\n",
       "      <td>2</td>\n",
       "      <td>-1</td>\n",
       "      <td>-1</td>\n",
       "      <td>-2</td>\n",
       "      <td>-2</td>\n",
       "      <td>3913.000</td>\n",
       "      <td>3102.000</td>\n",
       "      <td>689.000</td>\n",
       "      <td>0.000</td>\n",
       "      <td>0.000</td>\n",
       "      <td>0.000</td>\n",
       "      <td>0.000</td>\n",
       "      <td>689.000</td>\n",
       "      <td>0.000</td>\n",
       "      <td>0.000</td>\n",
       "      <td>0.000</td>\n",
       "      <td>0.000</td>\n",
       "      <td>1</td>\n",
       "    </tr>\n",
       "    <tr>\n",
       "      <td>1</td>\n",
       "      <td>2</td>\n",
       "      <td>120000.000</td>\n",
       "      <td>2</td>\n",
       "      <td>2</td>\n",
       "      <td>2</td>\n",
       "      <td>26</td>\n",
       "      <td>-1</td>\n",
       "      <td>2</td>\n",
       "      <td>0</td>\n",
       "      <td>0</td>\n",
       "      <td>0</td>\n",
       "      <td>2</td>\n",
       "      <td>2682.000</td>\n",
       "      <td>1725.000</td>\n",
       "      <td>2682.000</td>\n",
       "      <td>3272.000</td>\n",
       "      <td>3455.000</td>\n",
       "      <td>3261.000</td>\n",
       "      <td>0.000</td>\n",
       "      <td>1000.000</td>\n",
       "      <td>1000.000</td>\n",
       "      <td>1000.000</td>\n",
       "      <td>0.000</td>\n",
       "      <td>2000.000</td>\n",
       "      <td>1</td>\n",
       "    </tr>\n",
       "    <tr>\n",
       "      <td>2</td>\n",
       "      <td>3</td>\n",
       "      <td>90000.000</td>\n",
       "      <td>2</td>\n",
       "      <td>2</td>\n",
       "      <td>2</td>\n",
       "      <td>34</td>\n",
       "      <td>0</td>\n",
       "      <td>0</td>\n",
       "      <td>0</td>\n",
       "      <td>0</td>\n",
       "      <td>0</td>\n",
       "      <td>0</td>\n",
       "      <td>29239.000</td>\n",
       "      <td>14027.000</td>\n",
       "      <td>13559.000</td>\n",
       "      <td>14331.000</td>\n",
       "      <td>14948.000</td>\n",
       "      <td>15549.000</td>\n",
       "      <td>1518.000</td>\n",
       "      <td>1500.000</td>\n",
       "      <td>1000.000</td>\n",
       "      <td>1000.000</td>\n",
       "      <td>1000.000</td>\n",
       "      <td>5000.000</td>\n",
       "      <td>0</td>\n",
       "    </tr>\n",
       "    <tr>\n",
       "      <td>3</td>\n",
       "      <td>4</td>\n",
       "      <td>50000.000</td>\n",
       "      <td>2</td>\n",
       "      <td>2</td>\n",
       "      <td>1</td>\n",
       "      <td>37</td>\n",
       "      <td>0</td>\n",
       "      <td>0</td>\n",
       "      <td>0</td>\n",
       "      <td>0</td>\n",
       "      <td>0</td>\n",
       "      <td>0</td>\n",
       "      <td>46990.000</td>\n",
       "      <td>48233.000</td>\n",
       "      <td>49291.000</td>\n",
       "      <td>28314.000</td>\n",
       "      <td>28959.000</td>\n",
       "      <td>29547.000</td>\n",
       "      <td>2000.000</td>\n",
       "      <td>2019.000</td>\n",
       "      <td>1200.000</td>\n",
       "      <td>1100.000</td>\n",
       "      <td>1069.000</td>\n",
       "      <td>1000.000</td>\n",
       "      <td>0</td>\n",
       "    </tr>\n",
       "    <tr>\n",
       "      <td>4</td>\n",
       "      <td>5</td>\n",
       "      <td>50000.000</td>\n",
       "      <td>1</td>\n",
       "      <td>2</td>\n",
       "      <td>1</td>\n",
       "      <td>57</td>\n",
       "      <td>-1</td>\n",
       "      <td>0</td>\n",
       "      <td>-1</td>\n",
       "      <td>0</td>\n",
       "      <td>0</td>\n",
       "      <td>0</td>\n",
       "      <td>8617.000</td>\n",
       "      <td>5670.000</td>\n",
       "      <td>35835.000</td>\n",
       "      <td>20940.000</td>\n",
       "      <td>19146.000</td>\n",
       "      <td>19131.000</td>\n",
       "      <td>2000.000</td>\n",
       "      <td>36681.000</td>\n",
       "      <td>10000.000</td>\n",
       "      <td>9000.000</td>\n",
       "      <td>689.000</td>\n",
       "      <td>679.000</td>\n",
       "      <td>0</td>\n",
       "    </tr>\n",
       "  </tbody>\n",
       "</table>\n",
       "</div>"
      ],
      "text/plain": [
       "   ID  LIMIT_BAL  SEX  EDUCATION  MARRIAGE  AGE  PAY_0  PAY_2  PAY_3  PAY_4  \\\n",
       "0   1  20000.000    2          2         1   24      2      2     -1     -1   \n",
       "1   2 120000.000    2          2         2   26     -1      2      0      0   \n",
       "2   3  90000.000    2          2         2   34      0      0      0      0   \n",
       "3   4  50000.000    2          2         1   37      0      0      0      0   \n",
       "4   5  50000.000    1          2         1   57     -1      0     -1      0   \n",
       "\n",
       "   PAY_5  PAY_6  BILL_AMT1  BILL_AMT2  BILL_AMT3  BILL_AMT4  BILL_AMT5  \\\n",
       "0     -2     -2   3913.000   3102.000    689.000      0.000      0.000   \n",
       "1      0      2   2682.000   1725.000   2682.000   3272.000   3455.000   \n",
       "2      0      0  29239.000  14027.000  13559.000  14331.000  14948.000   \n",
       "3      0      0  46990.000  48233.000  49291.000  28314.000  28959.000   \n",
       "4      0      0   8617.000   5670.000  35835.000  20940.000  19146.000   \n",
       "\n",
       "   BILL_AMT6  PAY_AMT1  PAY_AMT2  PAY_AMT3  PAY_AMT4  PAY_AMT5  PAY_AMT6  \\\n",
       "0      0.000     0.000   689.000     0.000     0.000     0.000     0.000   \n",
       "1   3261.000     0.000  1000.000  1000.000  1000.000     0.000  2000.000   \n",
       "2  15549.000  1518.000  1500.000  1000.000  1000.000  1000.000  5000.000   \n",
       "3  29547.000  2000.000  2019.000  1200.000  1100.000  1069.000  1000.000   \n",
       "4  19131.000  2000.000 36681.000 10000.000  9000.000   689.000   679.000   \n",
       "\n",
       "   DEFAULT  \n",
       "0        1  \n",
       "1        1  \n",
       "2        0  \n",
       "3        0  \n",
       "4        0  "
      ]
     },
     "execution_count": 4,
     "metadata": {},
     "output_type": "execute_result"
    }
   ],
   "source": [
    "data = data.rename(columns={'default.payment.next.month': 'DEFAULT'})\n",
    "data.head()"
   ]
  },
  {
   "cell_type": "markdown",
   "metadata": {},
   "source": [
    "## Dataset Information\n",
    "This dataset contains information on default payments, demographic factors, credit data, history of payment, and bill statements of credit card clients in Taiwan from April 2005 to September 2005.\n",
    "\n",
    "### There are 25 variables:\n",
    "\n",
    "__ID:__  ID of each client   \n",
    "__LIMIT_BAL:__  Amount of given credit in NT dollars (includes individual and family/supplementary credit   \n",
    "__SEX:__  Gender (1=male, 2=female)   \n",
    "__EDUCATION:__  (1=graduate school, 2=university, 3=high school, 4=others, 5=unknown, 6=unknown)   \n",
    "__MARRIAGE:__  Marital status (1=married, 2=single, 3=others)   \n",
    "__AGE:__  Age in years  \n",
    "__PAY_0:__  Repayment status in September, 2005 (-1=pay duly, 1=payment delay for one month, 2=payment delay for two months..  \n",
    "__PAY_2:__  Repayment status in August, 2005 (scale same as above)     \n",
    "__PAY_3:__ Repayment status in July, 2005 (scale same as above)     \n",
    "__PAY_4:__ Repayment status in June, 2005 (scale same as above)     \n",
    "__PAY_5:__ Repayment status in May, 2005 (scale same as above)     \n",
    "__PAY_6:__ Repayment status in April, 2005 (scale same as above)     \n",
    "__BILL_AMT1:__ Amount of bill statement in September, 2005 (NT dollar)   \n",
    "__BILL_AMT2:__ Amount of bill statement in August, 2005 (NT dollar)   \n",
    "__BILL_AMT3:__ Amount of bill statement in July, 2005 (NT dollar)   \n",
    "__BILL_AMT4:__ Amount of bill statement in June, 2005 (NT dollar)  \n",
    "__BILL_AMT5:__ Amount of bill statement in May, 2005 (NT dollar)  \n",
    "__BILL_AMT6:__ Amount of bill statement in April, 2005 (NT dollar)  \n",
    "__PAY_AMT1:__ Amount of previous payment in September, 2005 (NT dollar)  \n",
    "__PAY_AMT2:__ Amount of previous payment in August, 2005 (NT dollar)  \n",
    "__PAY_AMT3:__ Amount of previous payment in July, 2005 (NT dollar)  \n",
    "__PAY_AMT4:__ Amount of previous payment in June, 2005 (NT dollar)  \n",
    "__PAY_AMT5:__ Amount of previous payment in May, 2005 (NT dollar)  \n",
    "__PAY_AMT6:__ Amount of previous payment in April, 2005 (NT dollar)  \n",
    "__DEFAULT:__ Default payment in next month (1=yes, 0=no)  "
   ]
  },
  {
   "cell_type": "code",
   "execution_count": 5,
   "metadata": {},
   "outputs": [
    {
     "name": "stdout",
     "output_type": "stream",
     "text": [
      "<class 'pandas.core.frame.DataFrame'>\n",
      "RangeIndex: 30000 entries, 0 to 29999\n",
      "Data columns (total 25 columns):\n",
      "ID           30000 non-null int64\n",
      "LIMIT_BAL    30000 non-null float64\n",
      "SEX          30000 non-null int64\n",
      "EDUCATION    30000 non-null int64\n",
      "MARRIAGE     30000 non-null int64\n",
      "AGE          30000 non-null int64\n",
      "PAY_0        30000 non-null int64\n",
      "PAY_2        30000 non-null int64\n",
      "PAY_3        30000 non-null int64\n",
      "PAY_4        30000 non-null int64\n",
      "PAY_5        30000 non-null int64\n",
      "PAY_6        30000 non-null int64\n",
      "BILL_AMT1    30000 non-null float64\n",
      "BILL_AMT2    30000 non-null float64\n",
      "BILL_AMT3    30000 non-null float64\n",
      "BILL_AMT4    30000 non-null float64\n",
      "BILL_AMT5    30000 non-null float64\n",
      "BILL_AMT6    30000 non-null float64\n",
      "PAY_AMT1     30000 non-null float64\n",
      "PAY_AMT2     30000 non-null float64\n",
      "PAY_AMT3     30000 non-null float64\n",
      "PAY_AMT4     30000 non-null float64\n",
      "PAY_AMT5     30000 non-null float64\n",
      "PAY_AMT6     30000 non-null float64\n",
      "DEFAULT      30000 non-null int64\n",
      "dtypes: float64(13), int64(12)\n",
      "memory usage: 5.7 MB\n"
     ]
    }
   ],
   "source": [
    "data.info()"
   ]
  },
  {
   "cell_type": "code",
   "execution_count": 6,
   "metadata": {},
   "outputs": [
    {
     "data": {
      "text/html": [
       "<div>\n",
       "<style scoped>\n",
       "    .dataframe tbody tr th:only-of-type {\n",
       "        vertical-align: middle;\n",
       "    }\n",
       "\n",
       "    .dataframe tbody tr th {\n",
       "        vertical-align: top;\n",
       "    }\n",
       "\n",
       "    .dataframe thead th {\n",
       "        text-align: right;\n",
       "    }\n",
       "</style>\n",
       "<table border=\"1\" class=\"dataframe\">\n",
       "  <thead>\n",
       "    <tr style=\"text-align: right;\">\n",
       "      <th></th>\n",
       "      <th>ID</th>\n",
       "      <th>LIMIT_BAL</th>\n",
       "      <th>SEX</th>\n",
       "      <th>EDUCATION</th>\n",
       "      <th>MARRIAGE</th>\n",
       "      <th>AGE</th>\n",
       "      <th>PAY_0</th>\n",
       "      <th>PAY_2</th>\n",
       "      <th>PAY_3</th>\n",
       "      <th>PAY_4</th>\n",
       "      <th>PAY_5</th>\n",
       "      <th>PAY_6</th>\n",
       "      <th>BILL_AMT1</th>\n",
       "      <th>BILL_AMT2</th>\n",
       "      <th>BILL_AMT3</th>\n",
       "      <th>BILL_AMT4</th>\n",
       "      <th>BILL_AMT5</th>\n",
       "      <th>BILL_AMT6</th>\n",
       "      <th>PAY_AMT1</th>\n",
       "      <th>PAY_AMT2</th>\n",
       "      <th>PAY_AMT3</th>\n",
       "      <th>PAY_AMT4</th>\n",
       "      <th>PAY_AMT5</th>\n",
       "      <th>PAY_AMT6</th>\n",
       "      <th>DEFAULT</th>\n",
       "    </tr>\n",
       "  </thead>\n",
       "  <tbody>\n",
       "    <tr>\n",
       "      <td>count</td>\n",
       "      <td>30000.000</td>\n",
       "      <td>30000.000</td>\n",
       "      <td>30000.000</td>\n",
       "      <td>30000.000</td>\n",
       "      <td>30000.000</td>\n",
       "      <td>30000.000</td>\n",
       "      <td>30000.000</td>\n",
       "      <td>30000.000</td>\n",
       "      <td>30000.000</td>\n",
       "      <td>30000.000</td>\n",
       "      <td>30000.000</td>\n",
       "      <td>30000.000</td>\n",
       "      <td>30000.000</td>\n",
       "      <td>30000.000</td>\n",
       "      <td>30000.000</td>\n",
       "      <td>30000.000</td>\n",
       "      <td>30000.000</td>\n",
       "      <td>30000.000</td>\n",
       "      <td>30000.000</td>\n",
       "      <td>30000.000</td>\n",
       "      <td>30000.000</td>\n",
       "      <td>30000.000</td>\n",
       "      <td>30000.000</td>\n",
       "      <td>30000.000</td>\n",
       "      <td>30000.000</td>\n",
       "    </tr>\n",
       "    <tr>\n",
       "      <td>mean</td>\n",
       "      <td>15000.500</td>\n",
       "      <td>167484.323</td>\n",
       "      <td>1.604</td>\n",
       "      <td>1.853</td>\n",
       "      <td>1.552</td>\n",
       "      <td>35.486</td>\n",
       "      <td>-0.017</td>\n",
       "      <td>-0.134</td>\n",
       "      <td>-0.166</td>\n",
       "      <td>-0.221</td>\n",
       "      <td>-0.266</td>\n",
       "      <td>-0.291</td>\n",
       "      <td>51223.331</td>\n",
       "      <td>49179.075</td>\n",
       "      <td>47013.155</td>\n",
       "      <td>43262.949</td>\n",
       "      <td>40311.401</td>\n",
       "      <td>38871.760</td>\n",
       "      <td>5663.581</td>\n",
       "      <td>5921.163</td>\n",
       "      <td>5225.681</td>\n",
       "      <td>4826.077</td>\n",
       "      <td>4799.388</td>\n",
       "      <td>5215.503</td>\n",
       "      <td>0.221</td>\n",
       "    </tr>\n",
       "    <tr>\n",
       "      <td>std</td>\n",
       "      <td>8660.398</td>\n",
       "      <td>129747.662</td>\n",
       "      <td>0.489</td>\n",
       "      <td>0.790</td>\n",
       "      <td>0.522</td>\n",
       "      <td>9.218</td>\n",
       "      <td>1.124</td>\n",
       "      <td>1.197</td>\n",
       "      <td>1.197</td>\n",
       "      <td>1.169</td>\n",
       "      <td>1.133</td>\n",
       "      <td>1.150</td>\n",
       "      <td>73635.861</td>\n",
       "      <td>71173.769</td>\n",
       "      <td>69349.387</td>\n",
       "      <td>64332.856</td>\n",
       "      <td>60797.156</td>\n",
       "      <td>59554.108</td>\n",
       "      <td>16563.280</td>\n",
       "      <td>23040.870</td>\n",
       "      <td>17606.961</td>\n",
       "      <td>15666.160</td>\n",
       "      <td>15278.306</td>\n",
       "      <td>17777.466</td>\n",
       "      <td>0.415</td>\n",
       "    </tr>\n",
       "    <tr>\n",
       "      <td>min</td>\n",
       "      <td>1.000</td>\n",
       "      <td>10000.000</td>\n",
       "      <td>1.000</td>\n",
       "      <td>0.000</td>\n",
       "      <td>0.000</td>\n",
       "      <td>21.000</td>\n",
       "      <td>-2.000</td>\n",
       "      <td>-2.000</td>\n",
       "      <td>-2.000</td>\n",
       "      <td>-2.000</td>\n",
       "      <td>-2.000</td>\n",
       "      <td>-2.000</td>\n",
       "      <td>-165580.000</td>\n",
       "      <td>-69777.000</td>\n",
       "      <td>-157264.000</td>\n",
       "      <td>-170000.000</td>\n",
       "      <td>-81334.000</td>\n",
       "      <td>-339603.000</td>\n",
       "      <td>0.000</td>\n",
       "      <td>0.000</td>\n",
       "      <td>0.000</td>\n",
       "      <td>0.000</td>\n",
       "      <td>0.000</td>\n",
       "      <td>0.000</td>\n",
       "      <td>0.000</td>\n",
       "    </tr>\n",
       "    <tr>\n",
       "      <td>25%</td>\n",
       "      <td>7500.750</td>\n",
       "      <td>50000.000</td>\n",
       "      <td>1.000</td>\n",
       "      <td>1.000</td>\n",
       "      <td>1.000</td>\n",
       "      <td>28.000</td>\n",
       "      <td>-1.000</td>\n",
       "      <td>-1.000</td>\n",
       "      <td>-1.000</td>\n",
       "      <td>-1.000</td>\n",
       "      <td>-1.000</td>\n",
       "      <td>-1.000</td>\n",
       "      <td>3558.750</td>\n",
       "      <td>2984.750</td>\n",
       "      <td>2666.250</td>\n",
       "      <td>2326.750</td>\n",
       "      <td>1763.000</td>\n",
       "      <td>1256.000</td>\n",
       "      <td>1000.000</td>\n",
       "      <td>833.000</td>\n",
       "      <td>390.000</td>\n",
       "      <td>296.000</td>\n",
       "      <td>252.500</td>\n",
       "      <td>117.750</td>\n",
       "      <td>0.000</td>\n",
       "    </tr>\n",
       "    <tr>\n",
       "      <td>50%</td>\n",
       "      <td>15000.500</td>\n",
       "      <td>140000.000</td>\n",
       "      <td>2.000</td>\n",
       "      <td>2.000</td>\n",
       "      <td>2.000</td>\n",
       "      <td>34.000</td>\n",
       "      <td>0.000</td>\n",
       "      <td>0.000</td>\n",
       "      <td>0.000</td>\n",
       "      <td>0.000</td>\n",
       "      <td>0.000</td>\n",
       "      <td>0.000</td>\n",
       "      <td>22381.500</td>\n",
       "      <td>21200.000</td>\n",
       "      <td>20088.500</td>\n",
       "      <td>19052.000</td>\n",
       "      <td>18104.500</td>\n",
       "      <td>17071.000</td>\n",
       "      <td>2100.000</td>\n",
       "      <td>2009.000</td>\n",
       "      <td>1800.000</td>\n",
       "      <td>1500.000</td>\n",
       "      <td>1500.000</td>\n",
       "      <td>1500.000</td>\n",
       "      <td>0.000</td>\n",
       "    </tr>\n",
       "    <tr>\n",
       "      <td>75%</td>\n",
       "      <td>22500.250</td>\n",
       "      <td>240000.000</td>\n",
       "      <td>2.000</td>\n",
       "      <td>2.000</td>\n",
       "      <td>2.000</td>\n",
       "      <td>41.000</td>\n",
       "      <td>0.000</td>\n",
       "      <td>0.000</td>\n",
       "      <td>0.000</td>\n",
       "      <td>0.000</td>\n",
       "      <td>0.000</td>\n",
       "      <td>0.000</td>\n",
       "      <td>67091.000</td>\n",
       "      <td>64006.250</td>\n",
       "      <td>60164.750</td>\n",
       "      <td>54506.000</td>\n",
       "      <td>50190.500</td>\n",
       "      <td>49198.250</td>\n",
       "      <td>5006.000</td>\n",
       "      <td>5000.000</td>\n",
       "      <td>4505.000</td>\n",
       "      <td>4013.250</td>\n",
       "      <td>4031.500</td>\n",
       "      <td>4000.000</td>\n",
       "      <td>0.000</td>\n",
       "    </tr>\n",
       "    <tr>\n",
       "      <td>max</td>\n",
       "      <td>30000.000</td>\n",
       "      <td>1000000.000</td>\n",
       "      <td>2.000</td>\n",
       "      <td>6.000</td>\n",
       "      <td>3.000</td>\n",
       "      <td>79.000</td>\n",
       "      <td>8.000</td>\n",
       "      <td>8.000</td>\n",
       "      <td>8.000</td>\n",
       "      <td>8.000</td>\n",
       "      <td>8.000</td>\n",
       "      <td>8.000</td>\n",
       "      <td>964511.000</td>\n",
       "      <td>983931.000</td>\n",
       "      <td>1664089.000</td>\n",
       "      <td>891586.000</td>\n",
       "      <td>927171.000</td>\n",
       "      <td>961664.000</td>\n",
       "      <td>873552.000</td>\n",
       "      <td>1684259.000</td>\n",
       "      <td>896040.000</td>\n",
       "      <td>621000.000</td>\n",
       "      <td>426529.000</td>\n",
       "      <td>528666.000</td>\n",
       "      <td>1.000</td>\n",
       "    </tr>\n",
       "  </tbody>\n",
       "</table>\n",
       "</div>"
      ],
      "text/plain": [
       "             ID   LIMIT_BAL       SEX  EDUCATION  MARRIAGE       AGE  \\\n",
       "count 30000.000   30000.000 30000.000  30000.000 30000.000 30000.000   \n",
       "mean  15000.500  167484.323     1.604      1.853     1.552    35.486   \n",
       "std    8660.398  129747.662     0.489      0.790     0.522     9.218   \n",
       "min       1.000   10000.000     1.000      0.000     0.000    21.000   \n",
       "25%    7500.750   50000.000     1.000      1.000     1.000    28.000   \n",
       "50%   15000.500  140000.000     2.000      2.000     2.000    34.000   \n",
       "75%   22500.250  240000.000     2.000      2.000     2.000    41.000   \n",
       "max   30000.000 1000000.000     2.000      6.000     3.000    79.000   \n",
       "\n",
       "          PAY_0     PAY_2     PAY_3     PAY_4     PAY_5     PAY_6   BILL_AMT1  \\\n",
       "count 30000.000 30000.000 30000.000 30000.000 30000.000 30000.000   30000.000   \n",
       "mean     -0.017    -0.134    -0.166    -0.221    -0.266    -0.291   51223.331   \n",
       "std       1.124     1.197     1.197     1.169     1.133     1.150   73635.861   \n",
       "min      -2.000    -2.000    -2.000    -2.000    -2.000    -2.000 -165580.000   \n",
       "25%      -1.000    -1.000    -1.000    -1.000    -1.000    -1.000    3558.750   \n",
       "50%       0.000     0.000     0.000     0.000     0.000     0.000   22381.500   \n",
       "75%       0.000     0.000     0.000     0.000     0.000     0.000   67091.000   \n",
       "max       8.000     8.000     8.000     8.000     8.000     8.000  964511.000   \n",
       "\n",
       "       BILL_AMT2   BILL_AMT3   BILL_AMT4  BILL_AMT5   BILL_AMT6   PAY_AMT1  \\\n",
       "count  30000.000   30000.000   30000.000  30000.000   30000.000  30000.000   \n",
       "mean   49179.075   47013.155   43262.949  40311.401   38871.760   5663.581   \n",
       "std    71173.769   69349.387   64332.856  60797.156   59554.108  16563.280   \n",
       "min   -69777.000 -157264.000 -170000.000 -81334.000 -339603.000      0.000   \n",
       "25%     2984.750    2666.250    2326.750   1763.000    1256.000   1000.000   \n",
       "50%    21200.000   20088.500   19052.000  18104.500   17071.000   2100.000   \n",
       "75%    64006.250   60164.750   54506.000  50190.500   49198.250   5006.000   \n",
       "max   983931.000 1664089.000  891586.000 927171.000  961664.000 873552.000   \n",
       "\n",
       "         PAY_AMT2   PAY_AMT3   PAY_AMT4   PAY_AMT5   PAY_AMT6   DEFAULT  \n",
       "count   30000.000  30000.000  30000.000  30000.000  30000.000 30000.000  \n",
       "mean     5921.163   5225.681   4826.077   4799.388   5215.503     0.221  \n",
       "std     23040.870  17606.961  15666.160  15278.306  17777.466     0.415  \n",
       "min         0.000      0.000      0.000      0.000      0.000     0.000  \n",
       "25%       833.000    390.000    296.000    252.500    117.750     0.000  \n",
       "50%      2009.000   1800.000   1500.000   1500.000   1500.000     0.000  \n",
       "75%      5000.000   4505.000   4013.250   4031.500   4000.000     0.000  \n",
       "max   1684259.000 896040.000 621000.000 426529.000 528666.000     1.000  "
      ]
     },
     "execution_count": 6,
     "metadata": {},
     "output_type": "execute_result"
    }
   ],
   "source": [
    "data.describe()"
   ]
  },
  {
   "cell_type": "markdown",
   "metadata": {},
   "source": [
    "#### Podstawowy opis danych\n",
    "Nasz dataset składa się z 25 kolumn i 30 tysięcy wierszy. Nie mamy tutaj w ogóle wartości Nullowych.   \n",
    "- 30 tysiącami unikalnymi klientami kart kredytowych.  \n",
    "- Średni wiek klientów to 35,5 lat, a odchylenie standardowe to 9.2,   \n",
    "- Co oznacza, że średnio wiek odbiegał o 9 lat od średniego wieku, który wynosił 35,5 lat   \n",
    "- Średni limit udzielonego kredytu to 167484 $  "
   ]
  },
  {
   "cell_type": "markdown",
   "metadata": {},
   "source": [
    "## Czyszczenie danych"
   ]
  },
  {
   "cell_type": "markdown",
   "metadata": {},
   "source": [
    "### Zmienne kategorialne"
   ]
  },
  {
   "cell_type": "code",
   "execution_count": 7,
   "metadata": {},
   "outputs": [],
   "source": [
    "categorical = ['SEX','EDUCATION','MARRIAGE','DEFAULT']"
   ]
  },
  {
   "cell_type": "code",
   "execution_count": 8,
   "metadata": {},
   "outputs": [
    {
     "data": {
      "text/html": [
       "<div>\n",
       "<style scoped>\n",
       "    .dataframe tbody tr th:only-of-type {\n",
       "        vertical-align: middle;\n",
       "    }\n",
       "\n",
       "    .dataframe tbody tr th {\n",
       "        vertical-align: top;\n",
       "    }\n",
       "\n",
       "    .dataframe thead th {\n",
       "        text-align: right;\n",
       "    }\n",
       "</style>\n",
       "<table border=\"1\" class=\"dataframe\">\n",
       "  <thead>\n",
       "    <tr style=\"text-align: right;\">\n",
       "      <th></th>\n",
       "      <th>SEX</th>\n",
       "      <th>EDUCATION</th>\n",
       "      <th>MARRIAGE</th>\n",
       "      <th>DEFAULT</th>\n",
       "    </tr>\n",
       "  </thead>\n",
       "  <tbody>\n",
       "    <tr>\n",
       "      <td>count</td>\n",
       "      <td>30000.000</td>\n",
       "      <td>30000.000</td>\n",
       "      <td>30000.000</td>\n",
       "      <td>30000.000</td>\n",
       "    </tr>\n",
       "    <tr>\n",
       "      <td>mean</td>\n",
       "      <td>1.604</td>\n",
       "      <td>1.853</td>\n",
       "      <td>1.552</td>\n",
       "      <td>0.221</td>\n",
       "    </tr>\n",
       "    <tr>\n",
       "      <td>std</td>\n",
       "      <td>0.489</td>\n",
       "      <td>0.790</td>\n",
       "      <td>0.522</td>\n",
       "      <td>0.415</td>\n",
       "    </tr>\n",
       "    <tr>\n",
       "      <td>min</td>\n",
       "      <td>1.000</td>\n",
       "      <td>0.000</td>\n",
       "      <td>0.000</td>\n",
       "      <td>0.000</td>\n",
       "    </tr>\n",
       "    <tr>\n",
       "      <td>25%</td>\n",
       "      <td>1.000</td>\n",
       "      <td>1.000</td>\n",
       "      <td>1.000</td>\n",
       "      <td>0.000</td>\n",
       "    </tr>\n",
       "    <tr>\n",
       "      <td>50%</td>\n",
       "      <td>2.000</td>\n",
       "      <td>2.000</td>\n",
       "      <td>2.000</td>\n",
       "      <td>0.000</td>\n",
       "    </tr>\n",
       "    <tr>\n",
       "      <td>75%</td>\n",
       "      <td>2.000</td>\n",
       "      <td>2.000</td>\n",
       "      <td>2.000</td>\n",
       "      <td>0.000</td>\n",
       "    </tr>\n",
       "    <tr>\n",
       "      <td>max</td>\n",
       "      <td>2.000</td>\n",
       "      <td>6.000</td>\n",
       "      <td>3.000</td>\n",
       "      <td>1.000</td>\n",
       "    </tr>\n",
       "  </tbody>\n",
       "</table>\n",
       "</div>"
      ],
      "text/plain": [
       "            SEX  EDUCATION  MARRIAGE   DEFAULT\n",
       "count 30000.000  30000.000 30000.000 30000.000\n",
       "mean      1.604      1.853     1.552     0.221\n",
       "std       0.489      0.790     0.522     0.415\n",
       "min       1.000      0.000     0.000     0.000\n",
       "25%       1.000      1.000     1.000     0.000\n",
       "50%       2.000      2.000     2.000     0.000\n",
       "75%       2.000      2.000     2.000     0.000\n",
       "max       2.000      6.000     3.000     1.000"
      ]
     },
     "execution_count": 8,
     "metadata": {},
     "output_type": "execute_result"
    }
   ],
   "source": [
    "data[categorical].describe()"
   ]
  },
  {
   "cell_type": "code",
   "execution_count": 9,
   "metadata": {},
   "outputs": [
    {
     "name": "stdout",
     "output_type": "stream",
     "text": [
      "SEX Unique Values:  [2 1]\n",
      "EDUCATION Unique Values:  [2 1 3 5 4 6 0]\n",
      "MARRIAGE Unique Values:  [1 2 3 0]\n",
      "DEFAULT Unique Values:  [1 0]\n"
     ]
    }
   ],
   "source": [
    "for col in categorical:\n",
    "    print(col + ' Unique Values: ' ,data[col].unique())"
   ]
  },
  {
   "cell_type": "markdown",
   "metadata": {},
   "source": [
    "W przypadku EDUCATION nie mamy informacji w dokumentacji subsetu odnośnie kategorii 0. \n",
    "Tak samo w przypadku categori 0 dla kategorii MARRIAGE. Sprawdźmy ile jest takich klientów w poszczególnych kategoriach"
   ]
  },
  {
   "cell_type": "code",
   "execution_count": 10,
   "metadata": {},
   "outputs": [
    {
     "data": {
      "text/html": [
       "<div>\n",
       "<style scoped>\n",
       "    .dataframe tbody tr th:only-of-type {\n",
       "        vertical-align: middle;\n",
       "    }\n",
       "\n",
       "    .dataframe tbody tr th {\n",
       "        vertical-align: top;\n",
       "    }\n",
       "\n",
       "    .dataframe thead th {\n",
       "        text-align: right;\n",
       "    }\n",
       "</style>\n",
       "<table border=\"1\" class=\"dataframe\">\n",
       "  <thead>\n",
       "    <tr style=\"text-align: right;\">\n",
       "      <th></th>\n",
       "      <th>EDUCATION</th>\n",
       "      <th>EDUCATION %</th>\n",
       "    </tr>\n",
       "  </thead>\n",
       "  <tbody>\n",
       "    <tr>\n",
       "      <td>2</td>\n",
       "      <td>14030</td>\n",
       "      <td>46.767</td>\n",
       "    </tr>\n",
       "    <tr>\n",
       "      <td>1</td>\n",
       "      <td>10585</td>\n",
       "      <td>35.283</td>\n",
       "    </tr>\n",
       "    <tr>\n",
       "      <td>3</td>\n",
       "      <td>4917</td>\n",
       "      <td>16.390</td>\n",
       "    </tr>\n",
       "    <tr>\n",
       "      <td>5</td>\n",
       "      <td>280</td>\n",
       "      <td>0.933</td>\n",
       "    </tr>\n",
       "    <tr>\n",
       "      <td>4</td>\n",
       "      <td>123</td>\n",
       "      <td>0.410</td>\n",
       "    </tr>\n",
       "    <tr>\n",
       "      <td>6</td>\n",
       "      <td>51</td>\n",
       "      <td>0.170</td>\n",
       "    </tr>\n",
       "    <tr>\n",
       "      <td>0</td>\n",
       "      <td>14</td>\n",
       "      <td>0.047</td>\n",
       "    </tr>\n",
       "  </tbody>\n",
       "</table>\n",
       "</div>"
      ],
      "text/plain": [
       "   EDUCATION  EDUCATION %\n",
       "2      14030       46.767\n",
       "1      10585       35.283\n",
       "3       4917       16.390\n",
       "5        280        0.933\n",
       "4        123        0.410\n",
       "6         51        0.170\n",
       "0         14        0.047"
      ]
     },
     "execution_count": 10,
     "metadata": {},
     "output_type": "execute_result"
    }
   ],
   "source": [
    "counts_pct(category='EDUCATION',data=data)"
   ]
  },
  {
   "cell_type": "code",
   "execution_count": 11,
   "metadata": {},
   "outputs": [
    {
     "data": {
      "text/html": [
       "<div>\n",
       "<style scoped>\n",
       "    .dataframe tbody tr th:only-of-type {\n",
       "        vertical-align: middle;\n",
       "    }\n",
       "\n",
       "    .dataframe tbody tr th {\n",
       "        vertical-align: top;\n",
       "    }\n",
       "\n",
       "    .dataframe thead th {\n",
       "        text-align: right;\n",
       "    }\n",
       "</style>\n",
       "<table border=\"1\" class=\"dataframe\">\n",
       "  <thead>\n",
       "    <tr style=\"text-align: right;\">\n",
       "      <th></th>\n",
       "      <th>MARRIAGE</th>\n",
       "      <th>MARRIAGE %</th>\n",
       "    </tr>\n",
       "  </thead>\n",
       "  <tbody>\n",
       "    <tr>\n",
       "      <td>2</td>\n",
       "      <td>15964</td>\n",
       "      <td>53.213</td>\n",
       "    </tr>\n",
       "    <tr>\n",
       "      <td>1</td>\n",
       "      <td>13659</td>\n",
       "      <td>45.530</td>\n",
       "    </tr>\n",
       "    <tr>\n",
       "      <td>3</td>\n",
       "      <td>323</td>\n",
       "      <td>1.077</td>\n",
       "    </tr>\n",
       "    <tr>\n",
       "      <td>0</td>\n",
       "      <td>54</td>\n",
       "      <td>0.180</td>\n",
       "    </tr>\n",
       "  </tbody>\n",
       "</table>\n",
       "</div>"
      ],
      "text/plain": [
       "   MARRIAGE  MARRIAGE %\n",
       "2     15964      53.213\n",
       "1     13659      45.530\n",
       "3       323       1.077\n",
       "0        54       0.180"
      ]
     },
     "execution_count": 11,
     "metadata": {},
     "output_type": "execute_result"
    }
   ],
   "source": [
    "counts_pct(category='MARRIAGE',data=data)"
   ]
  },
  {
   "cell_type": "markdown",
   "metadata": {},
   "source": [
    "Widzimy, że kategorie 0, które są nieudokumentowane stanowią bardzo małą część w naszym subsecie. W związku z tym dobrze będzie złączyć te kategorie do jednej \"Other\""
   ]
  },
  {
   "cell_type": "code",
   "execution_count": 12,
   "metadata": {},
   "outputs": [],
   "source": [
    "data['MARRIAGE'] = data['MARRIAGE'].replace(0,3)\n",
    "data['EDUCATION'] = data['EDUCATION'].replace([0,5,6],4)"
   ]
  },
  {
   "cell_type": "code",
   "execution_count": 13,
   "metadata": {},
   "outputs": [
    {
     "data": {
      "text/html": [
       "<div>\n",
       "<style scoped>\n",
       "    .dataframe tbody tr th:only-of-type {\n",
       "        vertical-align: middle;\n",
       "    }\n",
       "\n",
       "    .dataframe tbody tr th {\n",
       "        vertical-align: top;\n",
       "    }\n",
       "\n",
       "    .dataframe thead th {\n",
       "        text-align: right;\n",
       "    }\n",
       "</style>\n",
       "<table border=\"1\" class=\"dataframe\">\n",
       "  <thead>\n",
       "    <tr style=\"text-align: right;\">\n",
       "      <th></th>\n",
       "      <th>MARRIAGE</th>\n",
       "      <th>MARRIAGE %</th>\n",
       "    </tr>\n",
       "  </thead>\n",
       "  <tbody>\n",
       "    <tr>\n",
       "      <td>2</td>\n",
       "      <td>15964</td>\n",
       "      <td>53.213</td>\n",
       "    </tr>\n",
       "    <tr>\n",
       "      <td>1</td>\n",
       "      <td>13659</td>\n",
       "      <td>45.530</td>\n",
       "    </tr>\n",
       "    <tr>\n",
       "      <td>3</td>\n",
       "      <td>377</td>\n",
       "      <td>1.257</td>\n",
       "    </tr>\n",
       "  </tbody>\n",
       "</table>\n",
       "</div>"
      ],
      "text/plain": [
       "   MARRIAGE  MARRIAGE %\n",
       "2     15964      53.213\n",
       "1     13659      45.530\n",
       "3       377       1.257"
      ]
     },
     "execution_count": 13,
     "metadata": {},
     "output_type": "execute_result"
    }
   ],
   "source": [
    "counts_pct(category='MARRIAGE',data=data)"
   ]
  },
  {
   "cell_type": "code",
   "execution_count": 14,
   "metadata": {},
   "outputs": [
    {
     "data": {
      "text/html": [
       "<div>\n",
       "<style scoped>\n",
       "    .dataframe tbody tr th:only-of-type {\n",
       "        vertical-align: middle;\n",
       "    }\n",
       "\n",
       "    .dataframe tbody tr th {\n",
       "        vertical-align: top;\n",
       "    }\n",
       "\n",
       "    .dataframe thead th {\n",
       "        text-align: right;\n",
       "    }\n",
       "</style>\n",
       "<table border=\"1\" class=\"dataframe\">\n",
       "  <thead>\n",
       "    <tr style=\"text-align: right;\">\n",
       "      <th></th>\n",
       "      <th>EDUCATION</th>\n",
       "      <th>EDUCATION %</th>\n",
       "    </tr>\n",
       "  </thead>\n",
       "  <tbody>\n",
       "    <tr>\n",
       "      <td>2</td>\n",
       "      <td>14030</td>\n",
       "      <td>46.767</td>\n",
       "    </tr>\n",
       "    <tr>\n",
       "      <td>1</td>\n",
       "      <td>10585</td>\n",
       "      <td>35.283</td>\n",
       "    </tr>\n",
       "    <tr>\n",
       "      <td>3</td>\n",
       "      <td>4917</td>\n",
       "      <td>16.390</td>\n",
       "    </tr>\n",
       "    <tr>\n",
       "      <td>4</td>\n",
       "      <td>468</td>\n",
       "      <td>1.560</td>\n",
       "    </tr>\n",
       "  </tbody>\n",
       "</table>\n",
       "</div>"
      ],
      "text/plain": [
       "   EDUCATION  EDUCATION %\n",
       "2      14030       46.767\n",
       "1      10585       35.283\n",
       "3       4917       16.390\n",
       "4        468        1.560"
      ]
     },
     "execution_count": 14,
     "metadata": {},
     "output_type": "execute_result"
    }
   ],
   "source": [
    "counts_pct(category='EDUCATION',data=data)"
   ]
  },
  {
   "cell_type": "markdown",
   "metadata": {},
   "source": [
    "### Spłacalność\n",
    "Kolumny PAY_0 do PAY_6 informują o spłacalności. -1 oznacza, że spłacona na czas, natomiast 1 - oznacza 1 miesiąc opóźnienia, 2 - oznacza 2 miesiące opóźnienie itd"
   ]
  },
  {
   "cell_type": "code",
   "execution_count": 15,
   "metadata": {},
   "outputs": [],
   "source": [
    "repayment = ['PAY_0','PAY_2','PAY_3','PAY_4','PAY_5','PAY_6']"
   ]
  },
  {
   "cell_type": "code",
   "execution_count": 16,
   "metadata": {},
   "outputs": [
    {
     "data": {
      "text/html": [
       "<div>\n",
       "<style scoped>\n",
       "    .dataframe tbody tr th:only-of-type {\n",
       "        vertical-align: middle;\n",
       "    }\n",
       "\n",
       "    .dataframe tbody tr th {\n",
       "        vertical-align: top;\n",
       "    }\n",
       "\n",
       "    .dataframe thead th {\n",
       "        text-align: right;\n",
       "    }\n",
       "</style>\n",
       "<table border=\"1\" class=\"dataframe\">\n",
       "  <thead>\n",
       "    <tr style=\"text-align: right;\">\n",
       "      <th></th>\n",
       "      <th>PAY_0</th>\n",
       "      <th>PAY_2</th>\n",
       "      <th>PAY_3</th>\n",
       "      <th>PAY_4</th>\n",
       "      <th>PAY_5</th>\n",
       "      <th>PAY_6</th>\n",
       "    </tr>\n",
       "  </thead>\n",
       "  <tbody>\n",
       "    <tr>\n",
       "      <td>count</td>\n",
       "      <td>30000.000</td>\n",
       "      <td>30000.000</td>\n",
       "      <td>30000.000</td>\n",
       "      <td>30000.000</td>\n",
       "      <td>30000.000</td>\n",
       "      <td>30000.000</td>\n",
       "    </tr>\n",
       "    <tr>\n",
       "      <td>mean</td>\n",
       "      <td>-0.017</td>\n",
       "      <td>-0.134</td>\n",
       "      <td>-0.166</td>\n",
       "      <td>-0.221</td>\n",
       "      <td>-0.266</td>\n",
       "      <td>-0.291</td>\n",
       "    </tr>\n",
       "    <tr>\n",
       "      <td>std</td>\n",
       "      <td>1.124</td>\n",
       "      <td>1.197</td>\n",
       "      <td>1.197</td>\n",
       "      <td>1.169</td>\n",
       "      <td>1.133</td>\n",
       "      <td>1.150</td>\n",
       "    </tr>\n",
       "    <tr>\n",
       "      <td>min</td>\n",
       "      <td>-2.000</td>\n",
       "      <td>-2.000</td>\n",
       "      <td>-2.000</td>\n",
       "      <td>-2.000</td>\n",
       "      <td>-2.000</td>\n",
       "      <td>-2.000</td>\n",
       "    </tr>\n",
       "    <tr>\n",
       "      <td>25%</td>\n",
       "      <td>-1.000</td>\n",
       "      <td>-1.000</td>\n",
       "      <td>-1.000</td>\n",
       "      <td>-1.000</td>\n",
       "      <td>-1.000</td>\n",
       "      <td>-1.000</td>\n",
       "    </tr>\n",
       "    <tr>\n",
       "      <td>50%</td>\n",
       "      <td>0.000</td>\n",
       "      <td>0.000</td>\n",
       "      <td>0.000</td>\n",
       "      <td>0.000</td>\n",
       "      <td>0.000</td>\n",
       "      <td>0.000</td>\n",
       "    </tr>\n",
       "    <tr>\n",
       "      <td>75%</td>\n",
       "      <td>0.000</td>\n",
       "      <td>0.000</td>\n",
       "      <td>0.000</td>\n",
       "      <td>0.000</td>\n",
       "      <td>0.000</td>\n",
       "      <td>0.000</td>\n",
       "    </tr>\n",
       "    <tr>\n",
       "      <td>max</td>\n",
       "      <td>8.000</td>\n",
       "      <td>8.000</td>\n",
       "      <td>8.000</td>\n",
       "      <td>8.000</td>\n",
       "      <td>8.000</td>\n",
       "      <td>8.000</td>\n",
       "    </tr>\n",
       "  </tbody>\n",
       "</table>\n",
       "</div>"
      ],
      "text/plain": [
       "          PAY_0     PAY_2     PAY_3     PAY_4     PAY_5     PAY_6\n",
       "count 30000.000 30000.000 30000.000 30000.000 30000.000 30000.000\n",
       "mean     -0.017    -0.134    -0.166    -0.221    -0.266    -0.291\n",
       "std       1.124     1.197     1.197     1.169     1.133     1.150\n",
       "min      -2.000    -2.000    -2.000    -2.000    -2.000    -2.000\n",
       "25%      -1.000    -1.000    -1.000    -1.000    -1.000    -1.000\n",
       "50%       0.000     0.000     0.000     0.000     0.000     0.000\n",
       "75%       0.000     0.000     0.000     0.000     0.000     0.000\n",
       "max       8.000     8.000     8.000     8.000     8.000     8.000"
      ]
     },
     "execution_count": 16,
     "metadata": {},
     "output_type": "execute_result"
    }
   ],
   "source": [
    "data[repayment].describe()"
   ]
  },
  {
   "cell_type": "code",
   "execution_count": 17,
   "metadata": {},
   "outputs": [
    {
     "name": "stdout",
     "output_type": "stream",
     "text": [
      "PAY_0 Unique Values:  [ 2 -1  0 -2  1  3  4  8  7  5  6]\n",
      "PAY_2 Unique Values:  [ 2  0 -1 -2  3  5  7  4  1  6  8]\n",
      "PAY_3 Unique Values:  [-1  0  2 -2  3  4  6  7  1  5  8]\n",
      "PAY_4 Unique Values:  [-1  0 -2  2  3  4  5  7  6  1  8]\n",
      "PAY_5 Unique Values:  [-2  0 -1  2  3  5  4  7  8  6]\n",
      "PAY_6 Unique Values:  [-2  2  0 -1  3  6  4  7  8  5]\n"
     ]
    }
   ],
   "source": [
    "for col in repayment:\n",
    "    print(col + ' Unique Values: ' ,data[col].unique())"
   ]
  },
  {
   "cell_type": "markdown",
   "metadata": {},
   "source": [
    "Widzimy, że mamy tutaj doczynienia z zakresem od -2 do 8. W dokumentacji nie mamy informacji na temat liczb -2 or 0. Jednak, jeśli -1 oznacza, że spłacono na czas to możemy przyjąć, że -2 i 0 też oznaczają spłacone na czas."
   ]
  },
  {
   "cell_type": "code",
   "execution_count": 18,
   "metadata": {},
   "outputs": [],
   "source": [
    "data[repayment] = data[repayment].replace([-2,-1,0],0)"
   ]
  },
  {
   "cell_type": "code",
   "execution_count": 19,
   "metadata": {},
   "outputs": [],
   "source": [
    "data.rename(columns={'PAY_0':'PAY_1'},inplace=True)"
   ]
  },
  {
   "cell_type": "markdown",
   "metadata": {},
   "source": [
    "## Analiza & Wizualizacja "
   ]
  },
  {
   "cell_type": "markdown",
   "metadata": {},
   "source": [
    "Dodajmy podział na kategorie tekstowe w celu łatwiejszego odbioru informacji przy wizualizacji"
   ]
  },
  {
   "cell_type": "code",
   "execution_count": 20,
   "metadata": {},
   "outputs": [],
   "source": [
    "data['AGE_GROUP'] = pd.cut(data['AGE'], [data['AGE'].min(),40,55,70,data['AGE'].max()], labels=[\"young\", 'middle' ,\"old\",\"very old\"])\n",
    "data['SEX_NAME'] = data['SEX'].apply(lambda x: 'Male' if x == 1 else 'Female')\n",
    "data['EDUCATION_GROUP'] = data['EDUCATION'].apply(lambda x: education(x) )\n",
    "data['MARTIAL_STATUS'] = data['MARRIAGE'].apply(lambda x: martials(x))"
   ]
  },
  {
   "cell_type": "code",
   "execution_count": 21,
   "metadata": {},
   "outputs": [
    {
     "data": {
      "text/html": [
       "<div>\n",
       "<style scoped>\n",
       "    .dataframe tbody tr th:only-of-type {\n",
       "        vertical-align: middle;\n",
       "    }\n",
       "\n",
       "    .dataframe tbody tr th {\n",
       "        vertical-align: top;\n",
       "    }\n",
       "\n",
       "    .dataframe thead th {\n",
       "        text-align: right;\n",
       "    }\n",
       "</style>\n",
       "<table border=\"1\" class=\"dataframe\">\n",
       "  <thead>\n",
       "    <tr style=\"text-align: right;\">\n",
       "      <th></th>\n",
       "      <th>DEFAULT</th>\n",
       "      <th>DEFAULT %</th>\n",
       "    </tr>\n",
       "  </thead>\n",
       "  <tbody>\n",
       "    <tr>\n",
       "      <td>0</td>\n",
       "      <td>23364</td>\n",
       "      <td>77.880</td>\n",
       "    </tr>\n",
       "    <tr>\n",
       "      <td>1</td>\n",
       "      <td>6636</td>\n",
       "      <td>22.120</td>\n",
       "    </tr>\n",
       "  </tbody>\n",
       "</table>\n",
       "</div>"
      ],
      "text/plain": [
       "   DEFAULT  DEFAULT %\n",
       "0    23364     77.880\n",
       "1     6636     22.120"
      ]
     },
     "execution_count": 21,
     "metadata": {},
     "output_type": "execute_result"
    }
   ],
   "source": [
    "counts_pct(category='DEFAULT',data=data)"
   ]
  },
  {
   "cell_type": "code",
   "execution_count": 22,
   "metadata": {},
   "outputs": [
    {
     "data": {
      "image/png": "[encoded data removed]",
      "text/plain": [
       "<Figure size 1008x360 with 2 Axes>"
      ]
     },
     "metadata": {
      "needs_background": "light"
     },
     "output_type": "display_data"
    }
   ],
   "source": [
    "f,ax = plt.subplots(1,2,figsize=(14,5))\n",
    "fig1 = sns.barplot(y='DEFAULT', x=counts_pct(category='DEFAULT',data=data).index \n",
    "                   ,data= counts_pct(category='DEFAULT',data=data)\n",
    "                  ,palette=['#b3b7b8','#c55572'],ax=ax[0])\n",
    "fig1.set_ylabel('');\n",
    "annotate(fig1,s=\"%.0f\",suffix='')\n",
    "despine()\n",
    "\n",
    "my_circle=plt.Circle( (0,0), 0.83, color='white')\n",
    "names=['Not Default','Default']\n",
    "size=data['DEFAULT'].value_counts().tolist()\n",
    "plt.pie(size, labels=names, colors=['#b3b7b8','#c55572'],autopct='%1.2f%%',startangle=35)\n",
    "p=plt.gcf()\n",
    "p.gca().add_artist(my_circle);\n",
    "plt.setp(plt.gcf().get_axes(), xlabel='', ylabel='');\n",
    "plt.suptitle('Defaults - jak wygląda rozkład', fontsize=15);"
   ]
  },
  {
   "cell_type": "code",
   "execution_count": 23,
   "metadata": {},
   "outputs": [
    {
     "data": {
      "text/html": [
       "<div>\n",
       "<style scoped>\n",
       "    .dataframe tbody tr th:only-of-type {\n",
       "        vertical-align: middle;\n",
       "    }\n",
       "\n",
       "    .dataframe tbody tr th {\n",
       "        vertical-align: top;\n",
       "    }\n",
       "\n",
       "    .dataframe thead th {\n",
       "        text-align: right;\n",
       "    }\n",
       "</style>\n",
       "<table border=\"1\" class=\"dataframe\">\n",
       "  <thead>\n",
       "    <tr style=\"text-align: right;\">\n",
       "      <th></th>\n",
       "      <th>count</th>\n",
       "      <th>mean</th>\n",
       "      <th>std</th>\n",
       "      <th>min</th>\n",
       "      <th>25%</th>\n",
       "      <th>50%</th>\n",
       "      <th>75%</th>\n",
       "      <th>max</th>\n",
       "    </tr>\n",
       "    <tr>\n",
       "      <th>AGE_GROUP</th>\n",
       "      <th></th>\n",
       "      <th></th>\n",
       "      <th></th>\n",
       "      <th></th>\n",
       "      <th></th>\n",
       "      <th></th>\n",
       "      <th></th>\n",
       "      <th></th>\n",
       "    </tr>\n",
       "  </thead>\n",
       "  <tbody>\n",
       "    <tr>\n",
       "      <td>young</td>\n",
       "      <td>21659.000</td>\n",
       "      <td>0.215</td>\n",
       "      <td>0.410</td>\n",
       "      <td>0.000</td>\n",
       "      <td>0.000</td>\n",
       "      <td>0.000</td>\n",
       "      <td>0.000</td>\n",
       "      <td>1.000</td>\n",
       "    </tr>\n",
       "    <tr>\n",
       "      <td>middle</td>\n",
       "      <td>7430.000</td>\n",
       "      <td>0.236</td>\n",
       "      <td>0.425</td>\n",
       "      <td>0.000</td>\n",
       "      <td>0.000</td>\n",
       "      <td>0.000</td>\n",
       "      <td>0.000</td>\n",
       "      <td>1.000</td>\n",
       "    </tr>\n",
       "    <tr>\n",
       "      <td>old</td>\n",
       "      <td>829.000</td>\n",
       "      <td>0.264</td>\n",
       "      <td>0.441</td>\n",
       "      <td>0.000</td>\n",
       "      <td>0.000</td>\n",
       "      <td>0.000</td>\n",
       "      <td>1.000</td>\n",
       "      <td>1.000</td>\n",
       "    </tr>\n",
       "    <tr>\n",
       "      <td>very old</td>\n",
       "      <td>15.000</td>\n",
       "      <td>0.333</td>\n",
       "      <td>0.488</td>\n",
       "      <td>0.000</td>\n",
       "      <td>0.000</td>\n",
       "      <td>0.000</td>\n",
       "      <td>1.000</td>\n",
       "      <td>1.000</td>\n",
       "    </tr>\n",
       "  </tbody>\n",
       "</table>\n",
       "</div>"
      ],
      "text/plain": [
       "              count  mean   std   min   25%   50%   75%   max\n",
       "AGE_GROUP                                                    \n",
       "young     21659.000 0.215 0.410 0.000 0.000 0.000 0.000 1.000\n",
       "middle     7430.000 0.236 0.425 0.000 0.000 0.000 0.000 1.000\n",
       "old         829.000 0.264 0.441 0.000 0.000 0.000 1.000 1.000\n",
       "very old     15.000 0.333 0.488 0.000 0.000 0.000 1.000 1.000"
      ]
     },
     "execution_count": 23,
     "metadata": {},
     "output_type": "execute_result"
    }
   ],
   "source": [
    "data.groupby(['AGE_GROUP'])['DEFAULT'].describe()"
   ]
  },
  {
   "cell_type": "code",
   "execution_count": 24,
   "metadata": {},
   "outputs": [
    {
     "data": {
      "text/html": [
       "<div>\n",
       "<style scoped>\n",
       "    .dataframe tbody tr th:only-of-type {\n",
       "        vertical-align: middle;\n",
       "    }\n",
       "\n",
       "    .dataframe tbody tr th {\n",
       "        vertical-align: top;\n",
       "    }\n",
       "\n",
       "    .dataframe thead th {\n",
       "        text-align: right;\n",
       "    }\n",
       "</style>\n",
       "<table border=\"1\" class=\"dataframe\">\n",
       "  <thead>\n",
       "    <tr style=\"text-align: right;\">\n",
       "      <th>DEFAULT</th>\n",
       "      <th>0</th>\n",
       "      <th>1</th>\n",
       "      <th>DEFAULT %</th>\n",
       "    </tr>\n",
       "    <tr>\n",
       "      <th>AGE_GROUP</th>\n",
       "      <th></th>\n",
       "      <th></th>\n",
       "      <th></th>\n",
       "    </tr>\n",
       "  </thead>\n",
       "  <tbody>\n",
       "    <tr>\n",
       "      <td>young</td>\n",
       "      <td>17013</td>\n",
       "      <td>4646</td>\n",
       "      <td>21.451</td>\n",
       "    </tr>\n",
       "    <tr>\n",
       "      <td>middle</td>\n",
       "      <td>5678</td>\n",
       "      <td>1752</td>\n",
       "      <td>23.580</td>\n",
       "    </tr>\n",
       "    <tr>\n",
       "      <td>old</td>\n",
       "      <td>610</td>\n",
       "      <td>219</td>\n",
       "      <td>26.417</td>\n",
       "    </tr>\n",
       "    <tr>\n",
       "      <td>very old</td>\n",
       "      <td>10</td>\n",
       "      <td>5</td>\n",
       "      <td>33.333</td>\n",
       "    </tr>\n",
       "  </tbody>\n",
       "</table>\n",
       "</div>"
      ],
      "text/plain": [
       "DEFAULT        0     1  DEFAULT %\n",
       "AGE_GROUP                        \n",
       "young      17013  4646     21.451\n",
       "middle      5678  1752     23.580\n",
       "old          610   219     26.417\n",
       "very old      10     5     33.333"
      ]
     },
     "execution_count": 24,
     "metadata": {},
     "output_type": "execute_result"
    }
   ],
   "source": [
    "cross_pct(c1='AGE_GROUP', c2='DEFAULT')"
   ]
  },
  {
   "cell_type": "code",
   "execution_count": 25,
   "metadata": {},
   "outputs": [
    {
     "data": {
      "image/png": "[encoded data removed]",
      "text/plain": [
       "<Figure size 1008x216 with 1 Axes>"
      ]
     },
     "metadata": {
      "needs_background": "light"
     },
     "output_type": "display_data"
    }
   ],
   "source": [
    "f,ax = plt.subplots(1,1,figsize=(14,3))\n",
    "sns.lineplot(y='DEFAULT %',x='AGE',data=cross_pct(c1='AGE', c2='DEFAULT').reset_index(),color='#c55572',linewidth=4)\n",
    "despine()\n",
    "plt.ylabel('% Defaults');"
   ]
  },
  {
   "cell_type": "code",
   "execution_count": 26,
   "metadata": {},
   "outputs": [
    {
     "data": {
      "image/png": "[encoded data removed]",
      "text/plain": [
       "<Figure size 1008x360 with 2 Axes>"
      ]
     },
     "metadata": {
      "needs_background": "light"
     },
     "output_type": "display_data"
    }
   ],
   "source": [
    "f,ax = plt.subplots(1,2,figsize=(14,5))\n",
    "t1  = cross_pct(c1='AGE_GROUP', c2='DEFAULT').reset_index()\n",
    "fig2 = sns.barplot(x=t1['AGE_GROUP'],y=t1['DEFAULT %'],ax=ax[0], palette='viridis_r')\n",
    "fig2.set_xlabel('');\n",
    "fig2.set_ylabel('');\n",
    "fig2b = pd.crosstab(data['AGE_GROUP'], data['DEFAULT']).plot(kind='barh',stacked=True, color =['#b3b7b8','#c55572'], width=0.9,ax=ax[1])\n",
    "annotate(fig2,s=\"%.2f\",suffix='%')\n",
    "despine()\n",
    "plt.suptitle('Defaults - w podziale na kategorie wiekowe', fontsize=15);"
   ]
  },
  {
   "cell_type": "code",
   "execution_count": 27,
   "metadata": {},
   "outputs": [
    {
     "data": {
      "image/png": "[encoded data removed]",
      "text/plain": [
       "<Figure size 1008x720 with 2 Axes>"
      ]
     },
     "metadata": {
      "needs_background": "light"
     },
     "output_type": "display_data"
    }
   ],
   "source": [
    "f,ax = plt.subplots(2,1,figsize=(14,10))\n",
    "t2 = cross_pct(c1='AGE', c2='DEFAULT').reset_index()\n",
    "#fig4 = pd.crosstab(data['AGE'], data['DEFAULT']).plot(kind='bar',stacked=True, color =['#b3b7b8','#c55572'], width=0.9,ax=ax[0])\n",
    "fig4 = sns.countplot(x = 'AGE', data = data, hue = 'DEFAULT',palette=['#b3b7b8','#c55572'],ax=ax[0])\n",
    "fig4.set_xlabel('');\n",
    "despine()\n",
    "t2['NOT DEFAULT%'] = 100 - t2['DEFAULT %']\n",
    "fig5 = t2[['AGE','NOT DEFAULT%','DEFAULT %']].plot(x='AGE',kind='bar',stacked=True, color =['#b3b7b8','#c55572'], width=0.9,ax=ax[1]);\n",
    "fig5.set_ylabel('% Defaults');\n",
    "fig5.set_xlabel('');\n",
    "fig5.legend('');\n",
    "plt.suptitle('Default - rozkład w podziale na wiek',fontsize=15);"
   ]
  },
  {
   "cell_type": "code",
   "execution_count": 28,
   "metadata": {},
   "outputs": [
    {
     "data": {
      "image/png": "[encoded data removed]",
      "text/plain": [
       "<Figure size 1008x216 with 2 Axes>"
      ]
     },
     "metadata": {
      "needs_background": "light"
     },
     "output_type": "display_data"
    }
   ],
   "source": [
    "f,ax = plt.subplots(1,2,figsize=(14,3))\n",
    "fig6 = data[data['DEFAULT']==0]['AGE'].hist(bins=20,ax=ax[0],color='#b3b7b8',grid=False);\n",
    "fig6.set_title('Dystrybucja wieku gdzie DEFAULT = 0 ');\n",
    "fig6b = data[data['DEFAULT']==1]['AGE'].hist(bins=20,ax=ax[1],color='#c55572',grid=False);\n",
    "fig6b.set_title('Dystrybucja wieku gdzie DEFAULT = 1 ');\n",
    "despine()"
   ]
  },
  {
   "cell_type": "markdown",
   "metadata": {},
   "source": [
    "Z powyższych wykresów możemy zauważyć kilka istotnych faktów:   \n",
    "    Najliczniejsza grupa klientów, są to osoby poniżej 30 roku życia  \n",
    "    Największa ilość Defaultów w ujęciu procentowym dotyczy starszych osób.  \n",
    "    Prawdopodobienstwo defaultu spada wraz z wiekiem do 30, a pózniej powoli rośnie.  "
   ]
  },
  {
   "cell_type": "code",
   "execution_count": 29,
   "metadata": {},
   "outputs": [
    {
     "data": {
      "text/html": [
       "<div>\n",
       "<style scoped>\n",
       "    .dataframe tbody tr th:only-of-type {\n",
       "        vertical-align: middle;\n",
       "    }\n",
       "\n",
       "    .dataframe tbody tr th {\n",
       "        vertical-align: top;\n",
       "    }\n",
       "\n",
       "    .dataframe thead th {\n",
       "        text-align: right;\n",
       "    }\n",
       "</style>\n",
       "<table border=\"1\" class=\"dataframe\">\n",
       "  <thead>\n",
       "    <tr style=\"text-align: right;\">\n",
       "      <th></th>\n",
       "      <th>SEX_NAME</th>\n",
       "      <th>SEX_NAME %</th>\n",
       "    </tr>\n",
       "  </thead>\n",
       "  <tbody>\n",
       "    <tr>\n",
       "      <td>Female</td>\n",
       "      <td>18112</td>\n",
       "      <td>60.373</td>\n",
       "    </tr>\n",
       "    <tr>\n",
       "      <td>Male</td>\n",
       "      <td>11888</td>\n",
       "      <td>39.627</td>\n",
       "    </tr>\n",
       "  </tbody>\n",
       "</table>\n",
       "</div>"
      ],
      "text/plain": [
       "        SEX_NAME  SEX_NAME %\n",
       "Female     18112      60.373\n",
       "Male       11888      39.627"
      ]
     },
     "execution_count": 29,
     "metadata": {},
     "output_type": "execute_result"
    }
   ],
   "source": [
    "counts_pct(category='SEX_NAME',data=data)"
   ]
  },
  {
   "cell_type": "code",
   "execution_count": 30,
   "metadata": {},
   "outputs": [
    {
     "data": {
      "image/png": "[encoded data removed]",
      "text/plain": [
       "<Figure size 1008x360 with 2 Axes>"
      ]
     },
     "metadata": {
      "needs_background": "light"
     },
     "output_type": "display_data"
    }
   ],
   "source": [
    "f,ax = plt.subplots(1,2,figsize=(14,5))\n",
    "\n",
    "fig7 = sns.barplot(y='DEFAULT %', x= 'SEX_NAME'\n",
    "                   ,data= cross_pct(c1='SEX_NAME', c2='DEFAULT').reset_index()\n",
    "                  ,palette=['#FE938C','#3A506B'],ax=ax[0])\n",
    "fig7.set_ylabel('');\n",
    "annotate(fig7,s=\"%.0f\",suffix='%')\n",
    "despine()\n",
    "sa_d = data.groupby(['SEX_NAME','AGE_GROUP'])['DEFAULT'].agg(['mean']).reset_index()\n",
    "sa_d['mean']=sa_d.loc[:,'mean'] * 100\n",
    "fig8 = sns.barplot(hue='SEX_NAME',y='mean',x='AGE_GROUP',data=sa_d,palette=['#FE938C','#3A506B'],ax=ax[1])\n",
    "plt.setp(plt.gcf().get_axes(), xlabel='', ylabel='');\n",
    "annotate(fig8,s=\"%.2f\",suffix='%')\n",
    "plt.suptitle('Podział Defaultu klientów wg płci', fontsize=15);"
   ]
  },
  {
   "cell_type": "code",
   "execution_count": 31,
   "metadata": {},
   "outputs": [
    {
     "data": {
      "text/html": [
       "<div>\n",
       "<style scoped>\n",
       "    .dataframe tbody tr th:only-of-type {\n",
       "        vertical-align: middle;\n",
       "    }\n",
       "\n",
       "    .dataframe tbody tr th {\n",
       "        vertical-align: top;\n",
       "    }\n",
       "\n",
       "    .dataframe thead th {\n",
       "        text-align: right;\n",
       "    }\n",
       "</style>\n",
       "<table border=\"1\" class=\"dataframe\">\n",
       "  <thead>\n",
       "    <tr style=\"text-align: right;\">\n",
       "      <th></th>\n",
       "      <th></th>\n",
       "      <th>count</th>\n",
       "      <th>mean</th>\n",
       "    </tr>\n",
       "    <tr>\n",
       "      <th>SEX_NAME</th>\n",
       "      <th>AGE_GROUP</th>\n",
       "      <th></th>\n",
       "      <th></th>\n",
       "    </tr>\n",
       "  </thead>\n",
       "  <tbody>\n",
       "    <tr>\n",
       "      <td rowspan=\"4\" valign=\"top\">Female</td>\n",
       "      <td>young</td>\n",
       "      <td>13475</td>\n",
       "      <td>0.202</td>\n",
       "    </tr>\n",
       "    <tr>\n",
       "      <td>middle</td>\n",
       "      <td>4186</td>\n",
       "      <td>0.217</td>\n",
       "    </tr>\n",
       "    <tr>\n",
       "      <td>old</td>\n",
       "      <td>399</td>\n",
       "      <td>0.296</td>\n",
       "    </tr>\n",
       "    <tr>\n",
       "      <td>very old</td>\n",
       "      <td>6</td>\n",
       "      <td>0.333</td>\n",
       "    </tr>\n",
       "    <tr>\n",
       "      <td rowspan=\"4\" valign=\"top\">Male</td>\n",
       "      <td>young</td>\n",
       "      <td>8184</td>\n",
       "      <td>0.235</td>\n",
       "    </tr>\n",
       "    <tr>\n",
       "      <td>middle</td>\n",
       "      <td>3244</td>\n",
       "      <td>0.260</td>\n",
       "    </tr>\n",
       "    <tr>\n",
       "      <td>old</td>\n",
       "      <td>430</td>\n",
       "      <td>0.235</td>\n",
       "    </tr>\n",
       "    <tr>\n",
       "      <td>very old</td>\n",
       "      <td>9</td>\n",
       "      <td>0.333</td>\n",
       "    </tr>\n",
       "  </tbody>\n",
       "</table>\n",
       "</div>"
      ],
      "text/plain": [
       "                    count  mean\n",
       "SEX_NAME AGE_GROUP             \n",
       "Female   young      13475 0.202\n",
       "         middle      4186 0.217\n",
       "         old          399 0.296\n",
       "         very old       6 0.333\n",
       "Male     young       8184 0.235\n",
       "         middle      3244 0.260\n",
       "         old          430 0.235\n",
       "         very old       9 0.333"
      ]
     },
     "execution_count": 31,
     "metadata": {},
     "output_type": "execute_result"
    }
   ],
   "source": [
    "data.groupby(['SEX_NAME','AGE_GROUP'])['DEFAULT'].agg(['count','mean'])"
   ]
  },
  {
   "cell_type": "code",
   "execution_count": 32,
   "metadata": {},
   "outputs": [
    {
     "data": {
      "image/png": "[encoded data removed]",
      "text/plain": [
       "<Figure size 1008x432 with 1 Axes>"
      ]
     },
     "metadata": {
      "needs_background": "light"
     },
     "output_type": "display_data"
    }
   ],
   "source": [
    "d_s = data.groupby(['SEX_NAME','AGE'])['DEFAULT'].agg(['mean']).reset_index()\n",
    "d_s.rename(columns={'mean':'DEFAULT %'},inplace=True)\n",
    "d_s['DEFAULT %'] = d_s['DEFAULT %']*100\n",
    "f,ax = plt.subplots(1,1,figsize=(14,6))\n",
    "sns.lineplot(y='DEFAULT %',x='AGE',hue='SEX_NAME',data=d_s,palette=['#FE938C','#3A506B'],linewidth=6,marker=\"o\")\n",
    "despine()\n",
    "plt.ylabel('% Defaults');"
   ]
  },
  {
   "cell_type": "markdown",
   "metadata": {},
   "source": [
    "Na podstawie powyższych wykresów i tabel widzimy, że kobiet stanowią 60% klientów. Pomimo tego widzimy, że w przypadków mężczyzn mamy doczynienia z większą ilością Defaultów. Patrząc na wiek i płeć klientów. Widzimy, że do około 55 roku życia większy % Defaultów mamy u mężczyzn. Zmiana następuje w przypadku naszej kategorii osób \"Old\" czyli przedziału wiekowego od 55 - 70 lat. Czyli możemy przyjąć, że prawdopodobieństwo defaultu w przypadku mężczyzny jest większe."
   ]
  },
  {
   "cell_type": "code",
   "execution_count": 33,
   "metadata": {},
   "outputs": [
    {
     "data": {
      "text/html": [
       "<div>\n",
       "<style scoped>\n",
       "    .dataframe tbody tr th:only-of-type {\n",
       "        vertical-align: middle;\n",
       "    }\n",
       "\n",
       "    .dataframe tbody tr th {\n",
       "        vertical-align: top;\n",
       "    }\n",
       "\n",
       "    .dataframe thead th {\n",
       "        text-align: right;\n",
       "    }\n",
       "</style>\n",
       "<table border=\"1\" class=\"dataframe\">\n",
       "  <thead>\n",
       "    <tr style=\"text-align: right;\">\n",
       "      <th>DEFAULT</th>\n",
       "      <th>0</th>\n",
       "      <th>1</th>\n",
       "      <th>DEFAULT %</th>\n",
       "    </tr>\n",
       "    <tr>\n",
       "      <th>EDUCATION_GROUP</th>\n",
       "      <th></th>\n",
       "      <th></th>\n",
       "      <th></th>\n",
       "    </tr>\n",
       "  </thead>\n",
       "  <tbody>\n",
       "    <tr>\n",
       "      <td>graduate school</td>\n",
       "      <td>8549</td>\n",
       "      <td>2036</td>\n",
       "      <td>19.235</td>\n",
       "    </tr>\n",
       "    <tr>\n",
       "      <td>high school</td>\n",
       "      <td>3680</td>\n",
       "      <td>1237</td>\n",
       "      <td>25.158</td>\n",
       "    </tr>\n",
       "    <tr>\n",
       "      <td>others</td>\n",
       "      <td>435</td>\n",
       "      <td>33</td>\n",
       "      <td>7.051</td>\n",
       "    </tr>\n",
       "    <tr>\n",
       "      <td>university</td>\n",
       "      <td>10700</td>\n",
       "      <td>3330</td>\n",
       "      <td>23.735</td>\n",
       "    </tr>\n",
       "  </tbody>\n",
       "</table>\n",
       "</div>"
      ],
      "text/plain": [
       "DEFAULT              0     1  DEFAULT %\n",
       "EDUCATION_GROUP                        \n",
       "graduate school   8549  2036     19.235\n",
       "high school       3680  1237     25.158\n",
       "others             435    33      7.051\n",
       "university       10700  3330     23.735"
      ]
     },
     "execution_count": 33,
     "metadata": {},
     "output_type": "execute_result"
    }
   ],
   "source": [
    "cross_pct(c1='EDUCATION_GROUP', c2='DEFAULT')"
   ]
  },
  {
   "cell_type": "code",
   "execution_count": 34,
   "metadata": {
    "scrolled": false
   },
   "outputs": [
    {
     "data": {
      "image/png": "[encoded data removed]",
      "text/plain": [
       "<Figure size 1008x216 with 1 Axes>"
      ]
     },
     "metadata": {
      "needs_background": "light"
     },
     "output_type": "display_data"
    },
    {
     "data": {
      "image/png": "[encoded data removed]",
      "text/plain": [
       "<Figure size 1008x288 with 2 Axes>"
      ]
     },
     "metadata": {
      "needs_background": "light"
     },
     "output_type": "display_data"
    }
   ],
   "source": [
    "s_e = data.groupby(['SEX_NAME','EDUCATION_GROUP'])['DEFAULT'].agg(['count','mean']).reset_index()\n",
    "s_e['mean'] = s_e['mean'] * 100\n",
    "s_e.rename(columns={'mean':'DEFAULT %'},inplace=True)\n",
    "f,ax = plt.subplots(1,1,figsize=(14,3))\n",
    "fig9a = sns.barplot(x='DEFAULT %', y= 'EDUCATION_GROUP'\n",
    "                   ,data= cross_pct(c1='EDUCATION_GROUP', c2='DEFAULT').reset_index()\n",
    "                  ,palette='Blues')\n",
    "despine()\n",
    "plt.suptitle('Default w podziale na wykształcenie',fontsize=15);\n",
    "\n",
    "f,ax = plt.subplots(1,2,figsize=(14,4))\n",
    "fig9 = sns.barplot(y='DEFAULT %',x='EDUCATION_GROUP',hue='SEX_NAME',data=s_e,palette=['#FE938C','#3A506B'],ax=ax[1]);\n",
    "fig9.legend('')\n",
    "fig9b = sns.barplot(y='count',x='EDUCATION_GROUP',hue='SEX_NAME',data=s_e,palette=['#FE938C','#3A506B'],ax=ax[0]);\n",
    "fig9b.legend('')\n",
    "despine()\n",
    "fig9b.set_xlabel('')\n",
    "fig9.set_ylabel('Default %')\n",
    "annotate(fig9,s=\"%.2f\",suffix='%')\n",
    "annotate(fig9b,s=\"%.0f\",suffix='')\n",
    "plt.suptitle('Default w podziale na wykształcenie i płeć (liczebność) ora (%defaultów)',fontsize=15);"
   ]
  },
  {
   "cell_type": "markdown",
   "metadata": {},
   "source": [
    "Widzimy, ze klienci z wyższym stopniem edukacji mają niższy procent defaultów. Większość klientów ma stopień naukowy \"graduate school\" oraz \"university\". Widzimy również, że w przypadku każdej kategorii edukacyjnej mężczyźni mają większy procent prawdopodobieństwa defaultu w nastepnym miesiącu. Największe prawdopodobieństwo defaultu dotyczy klientów z wykształceniem średnim. Możemy więc przyjąć, że im niższy poziom wykształcenia tym wyższe prawdopodobieństwo defaultu."
   ]
  },
  {
   "cell_type": "code",
   "execution_count": 35,
   "metadata": {},
   "outputs": [
    {
     "data": {
      "text/html": [
       "<div>\n",
       "<style scoped>\n",
       "    .dataframe tbody tr th:only-of-type {\n",
       "        vertical-align: middle;\n",
       "    }\n",
       "\n",
       "    .dataframe tbody tr th {\n",
       "        vertical-align: top;\n",
       "    }\n",
       "\n",
       "    .dataframe thead th {\n",
       "        text-align: right;\n",
       "    }\n",
       "</style>\n",
       "<table border=\"1\" class=\"dataframe\">\n",
       "  <thead>\n",
       "    <tr style=\"text-align: right;\">\n",
       "      <th>DEFAULT</th>\n",
       "      <th>0</th>\n",
       "      <th>1</th>\n",
       "      <th>DEFAULT %</th>\n",
       "    </tr>\n",
       "    <tr>\n",
       "      <th>MARRIAGE</th>\n",
       "      <th></th>\n",
       "      <th></th>\n",
       "      <th></th>\n",
       "    </tr>\n",
       "  </thead>\n",
       "  <tbody>\n",
       "    <tr>\n",
       "      <td>1</td>\n",
       "      <td>10453</td>\n",
       "      <td>3206</td>\n",
       "      <td>23.472</td>\n",
       "    </tr>\n",
       "    <tr>\n",
       "      <td>2</td>\n",
       "      <td>12623</td>\n",
       "      <td>3341</td>\n",
       "      <td>20.928</td>\n",
       "    </tr>\n",
       "    <tr>\n",
       "      <td>3</td>\n",
       "      <td>288</td>\n",
       "      <td>89</td>\n",
       "      <td>23.607</td>\n",
       "    </tr>\n",
       "  </tbody>\n",
       "</table>\n",
       "</div>"
      ],
      "text/plain": [
       "DEFAULT       0     1  DEFAULT %\n",
       "MARRIAGE                        \n",
       "1         10453  3206     23.472\n",
       "2         12623  3341     20.928\n",
       "3           288    89     23.607"
      ]
     },
     "execution_count": 35,
     "metadata": {},
     "output_type": "execute_result"
    }
   ],
   "source": [
    "cross_pct(c1='MARRIAGE', c2='DEFAULT')"
   ]
  },
  {
   "cell_type": "code",
   "execution_count": 36,
   "metadata": {},
   "outputs": [
    {
     "data": {
      "image/png": "[encoded data removed]",
      "text/plain": [
       "<Figure size 1008x360 with 2 Axes>"
      ]
     },
     "metadata": {
      "needs_background": "light"
     },
     "output_type": "display_data"
    }
   ],
   "source": [
    "f,ax = plt.subplots(1,2,figsize=(14,5))\n",
    "fig10 = sns.barplot(y='DEFAULT %', x= 'MARTIAL_STATUS'\n",
    "                   ,data= cross_pct(c1='MARTIAL_STATUS', c2='DEFAULT').reset_index()\n",
    "                  ,palette='viridis',ax=ax[0])\n",
    "fig11 = sns.barplot(y=data['DEFAULT']*100, x= 'MARTIAL_STATUS',hue='SEX_NAME',ci=None\n",
    "                   ,data= data\n",
    "                  ,palette=['#FE938C','#3A506B'],ax=ax[1])\n",
    "fig11.legend(loc='best')\n",
    "\n",
    "fig10.set_ylabel('');\n",
    "annotate(fig10,s=\"%.2f\",suffix='%')\n",
    "despine()\n",
    "annotate(fig11,s=\"%.2f\",suffix='%')\n",
    "plt.suptitle('Default w podziale na stan cywilny i płeć',fontsize=15);"
   ]
  },
  {
   "cell_type": "markdown",
   "metadata": {},
   "source": [
    "Możemy zauważyć, że klienci w związku małżeńskim mają większe prawdopodobiestwo defaultu niż single. W każdej z kategorii dotyczącej stanu cywilnego w przypadku mężczyzn większe prawdopodobieństwo defaultu."
   ]
  },
  {
   "cell_type": "code",
   "execution_count": 37,
   "metadata": {},
   "outputs": [
    {
     "data": {
      "image/png": "[encoded data removed]",
      "text/plain": [
       "<Figure size 1008x864 with 6 Axes>"
      ]
     },
     "metadata": {
      "needs_background": "light"
     },
     "output_type": "display_data"
    }
   ],
   "source": [
    "colors = ['#c55572','#5f7995','#957b5f','#161803','#FE938C','#3A506B']\n",
    "ticks = ['Paid in Full','Delay 1m','Delay 2m'\n",
    "                     ,'Delay 3m','Delay 4m','Delay 5m','Delay 6m','Delay 7m','Delay 8m']\n",
    "pays = ['PAY_1','PAY_2','PAY_3','PAY_4','PAY_5','PAY_6']\n",
    "\n",
    "f,ax = plt.subplots(6,1,figsize=(14,12),sharex=True,sharey=True)\n",
    "for i in range(0,6):\n",
    "    p1= sns.pointplot(x=pays[i], y='DEFAULT %', data=cross_pct(c1=pays[i], c2='DEFAULT').reset_index(),ax=ax[i],linewidth=3,color=colors[i])\n",
    "    p1.set_xticklabels(ticks)\n",
    "    plt.suptitle('Defaulty w podziale na numer płatności',fontsize=15);\n",
    "    annotate(p1)\n",
    "    sns.despine(left=True)\n",
    "    plt.xlabel('')\n",
    "    p1.set_xlabel('')\n",
    "    p1.set_ylabel(f'PAY_{i}')"
   ]
  },
  {
   "cell_type": "code",
   "execution_count": 38,
   "metadata": {},
   "outputs": [
    {
     "data": {
      "image/png": "[encoded data removed]",
      "text/plain": [
       "<Figure size 1008x864 with 6 Axes>"
      ]
     },
     "metadata": {
      "needs_background": "light"
     },
     "output_type": "display_data"
    }
   ],
   "source": [
    "f,ax = plt.subplots(6,1,figsize=(14,12),sharex=True,sharey=True)\n",
    "for i in range(0,6):\n",
    "    p1= sns.barplot(x=pays[i], y='DEFAULT %', data=cross_pct(c1=pays[i], c2='DEFAULT').reset_index(),ax=ax[i],linewidth=3,color=colors[i])\n",
    "    p1.set_xticklabels(ticks)\n",
    "    annotate(p1)\n",
    "    sns.despine(left=True)\n",
    "    plt.xlabel('')\n",
    "    p1.set_xlabel('')\n",
    "    p1.set_ylabel(f'PAY_{i}')"
   ]
  },
  {
   "cell_type": "markdown",
   "metadata": {},
   "source": [
    "Z powyższych wykresów widzimy, że dla każdej raty wraz ze wzrostem opóźnienia w spłacie kredytu wzrasta prawdopodobieństwo defaultu. Najmniejsze prawdopodobieństwo defaultu mamy przypadku obecna rata została zapłacona na czas, oraz gdy mamy tylko 1 miesiąc opóźnienia w spłacie raty."
   ]
  },
  {
   "cell_type": "markdown",
   "metadata": {},
   "source": [
    "#### Sprawdźmy, jak wygląda kategoria LIMIT_BAL: Czyli wielkość udzielonego kredytu"
   ]
  },
  {
   "cell_type": "code",
   "execution_count": 83,
   "metadata": {},
   "outputs": [
    {
     "data": {
      "text/plain": [
       "count     30000.000\n",
       "mean     167484.323\n",
       "std      129747.662\n",
       "min       10000.000\n",
       "25%       50000.000\n",
       "50%      140000.000\n",
       "75%      240000.000\n",
       "max     1000000.000\n",
       "Name: LIMIT_BAL, dtype: float64"
      ]
     },
     "execution_count": 83,
     "metadata": {},
     "output_type": "execute_result"
    }
   ],
   "source": [
    "data['LIMIT_BAL'].describe()"
   ]
  },
  {
   "cell_type": "code",
   "execution_count": 85,
   "metadata": {},
   "outputs": [
    {
     "data": {
      "text/plain": [
       "50000.000     3365\n",
       "20000.000     1976\n",
       "30000.000     1610\n",
       "80000.000     1567\n",
       "200000.000    1528\n",
       "Name: LIMIT_BAL, dtype: int64"
      ]
     },
     "execution_count": 85,
     "metadata": {},
     "output_type": "execute_result"
    }
   ],
   "source": [
    "data['LIMIT_BAL'].value_counts().head(5)"
   ]
  },
  {
   "cell_type": "code",
   "execution_count": 86,
   "metadata": {},
   "outputs": [
    {
     "data": {
      "text/html": [
       "<div>\n",
       "<style scoped>\n",
       "    .dataframe tbody tr th:only-of-type {\n",
       "        vertical-align: middle;\n",
       "    }\n",
       "\n",
       "    .dataframe tbody tr th {\n",
       "        vertical-align: top;\n",
       "    }\n",
       "\n",
       "    .dataframe thead th {\n",
       "        text-align: right;\n",
       "    }\n",
       "</style>\n",
       "<table border=\"1\" class=\"dataframe\">\n",
       "  <thead>\n",
       "    <tr style=\"text-align: right;\">\n",
       "      <th></th>\n",
       "      <th>count</th>\n",
       "      <th>mean</th>\n",
       "      <th>std</th>\n",
       "      <th>min</th>\n",
       "      <th>25%</th>\n",
       "      <th>50%</th>\n",
       "      <th>75%</th>\n",
       "      <th>max</th>\n",
       "    </tr>\n",
       "    <tr>\n",
       "      <th>DEFAULT</th>\n",
       "      <th></th>\n",
       "      <th></th>\n",
       "      <th></th>\n",
       "      <th></th>\n",
       "      <th></th>\n",
       "      <th></th>\n",
       "      <th></th>\n",
       "      <th></th>\n",
       "    </tr>\n",
       "  </thead>\n",
       "  <tbody>\n",
       "    <tr>\n",
       "      <td>0</td>\n",
       "      <td>23364.000</td>\n",
       "      <td>178099.726</td>\n",
       "      <td>131628.360</td>\n",
       "      <td>10000.000</td>\n",
       "      <td>70000.000</td>\n",
       "      <td>150000.000</td>\n",
       "      <td>250000.000</td>\n",
       "      <td>1000000.000</td>\n",
       "    </tr>\n",
       "    <tr>\n",
       "      <td>1</td>\n",
       "      <td>6636.000</td>\n",
       "      <td>130109.656</td>\n",
       "      <td>115378.541</td>\n",
       "      <td>10000.000</td>\n",
       "      <td>50000.000</td>\n",
       "      <td>90000.000</td>\n",
       "      <td>200000.000</td>\n",
       "      <td>740000.000</td>\n",
       "    </tr>\n",
       "  </tbody>\n",
       "</table>\n",
       "</div>"
      ],
      "text/plain": [
       "            count       mean        std       min       25%        50%  \\\n",
       "DEFAULT                                                                  \n",
       "0       23364.000 178099.726 131628.360 10000.000 70000.000 150000.000   \n",
       "1        6636.000 130109.656 115378.541 10000.000 50000.000  90000.000   \n",
       "\n",
       "               75%         max  \n",
       "DEFAULT                         \n",
       "0       250000.000 1000000.000  \n",
       "1       200000.000  740000.000  "
      ]
     },
     "execution_count": 86,
     "metadata": {},
     "output_type": "execute_result"
    }
   ],
   "source": [
    "data.groupby('DEFAULT')['LIMIT_BAL'].describe()"
   ]
  },
  {
   "cell_type": "code",
   "execution_count": 82,
   "metadata": {},
   "outputs": [
    {
     "data": {
      "image/png": "[encoded data removed]",
      "text/plain": [
       "<Figure size 1008x360 with 2 Axes>"
      ]
     },
     "metadata": {
      "needs_background": "light"
     },
     "output_type": "display_data"
    },
    {
     "data": {
      "image/png": "[encoded data removed]",
      "text/plain": [
       "<Figure size 1008x288 with 2 Axes>"
      ]
     },
     "metadata": {
      "needs_background": "light"
     },
     "output_type": "display_data"
    }
   ],
   "source": [
    "f,ax = plt.subplots(1,2,figsize=(14,5))\n",
    "hist1 = data['LIMIT_BAL'].hist(bins=50,grid=False,ax=ax[0]);\n",
    "sns.despine(left=True)\n",
    "b0 = sns.boxplot(x=\"DEFAULT\", y=\"LIMIT_BAL\", \n",
    "                  data=data, linewidth=0.75,width=0.75,palette=['#b3b7b8','#c55572'],showfliers=False,ax=ax[1]);\n",
    "plt.suptitle('LIMIT_BAL - Dystrybucja',fontsize=15);\n",
    "f,ax = plt.subplots(1,2,figsize=(14,4))\n",
    "hist2 = data[data['DEFAULT']==0]['LIMIT_BAL'].hist(bins=50,grid=False,ax=ax[0],color='#b3b7b8');\n",
    "hist3 = data[data['DEFAULT']==1]['LIMIT_BAL'].hist(bins=50,grid=False,ax=ax[1],color='#c55572');\n",
    "sns.despine(left=True)\n",
    "plt.suptitle('LIMIT_BAL - Dystrybucja w podziale na Default i Brak Default',fontsize=15);"
   ]
  },
  {
   "cell_type": "code",
   "execution_count": 87,
   "metadata": {},
   "outputs": [
    {
     "data": {
      "text/html": [
       "<div>\n",
       "<style scoped>\n",
       "    .dataframe tbody tr th:only-of-type {\n",
       "        vertical-align: middle;\n",
       "    }\n",
       "\n",
       "    .dataframe tbody tr th {\n",
       "        vertical-align: top;\n",
       "    }\n",
       "\n",
       "    .dataframe thead th {\n",
       "        text-align: right;\n",
       "    }\n",
       "</style>\n",
       "<table border=\"1\" class=\"dataframe\">\n",
       "  <thead>\n",
       "    <tr style=\"text-align: right;\">\n",
       "      <th></th>\n",
       "      <th></th>\n",
       "      <th>count</th>\n",
       "      <th>mean</th>\n",
       "      <th>std</th>\n",
       "      <th>min</th>\n",
       "      <th>25%</th>\n",
       "      <th>50%</th>\n",
       "      <th>75%</th>\n",
       "      <th>max</th>\n",
       "    </tr>\n",
       "    <tr>\n",
       "      <th>DEFAULT</th>\n",
       "      <th>SEX_NAME</th>\n",
       "      <th></th>\n",
       "      <th></th>\n",
       "      <th></th>\n",
       "      <th></th>\n",
       "      <th></th>\n",
       "      <th></th>\n",
       "      <th></th>\n",
       "      <th></th>\n",
       "    </tr>\n",
       "  </thead>\n",
       "  <tbody>\n",
       "    <tr>\n",
       "      <td rowspan=\"2\" valign=\"top\">0</td>\n",
       "      <td>Female</td>\n",
       "      <td>14349.000</td>\n",
       "      <td>179726.531</td>\n",
       "      <td>126418.360</td>\n",
       "      <td>10000.000</td>\n",
       "      <td>80000.000</td>\n",
       "      <td>160000.000</td>\n",
       "      <td>250000.000</td>\n",
       "      <td>1000000.000</td>\n",
       "    </tr>\n",
       "    <tr>\n",
       "      <td>Male</td>\n",
       "      <td>9015.000</td>\n",
       "      <td>175510.372</td>\n",
       "      <td>139488.384</td>\n",
       "      <td>10000.000</td>\n",
       "      <td>50000.000</td>\n",
       "      <td>150000.000</td>\n",
       "      <td>260000.000</td>\n",
       "      <td>800000.000</td>\n",
       "    </tr>\n",
       "    <tr>\n",
       "      <td rowspan=\"2\" valign=\"top\">1</td>\n",
       "      <td>Female</td>\n",
       "      <td>3763.000</td>\n",
       "      <td>133327.133</td>\n",
       "      <td>113323.651</td>\n",
       "      <td>10000.000</td>\n",
       "      <td>50000.000</td>\n",
       "      <td>100000.000</td>\n",
       "      <td>200000.000</td>\n",
       "      <td>740000.000</td>\n",
       "    </tr>\n",
       "    <tr>\n",
       "      <td>Male</td>\n",
       "      <td>2873.000</td>\n",
       "      <td>125895.468</td>\n",
       "      <td>117902.950</td>\n",
       "      <td>10000.000</td>\n",
       "      <td>30000.000</td>\n",
       "      <td>80000.000</td>\n",
       "      <td>190000.000</td>\n",
       "      <td>720000.000</td>\n",
       "    </tr>\n",
       "  </tbody>\n",
       "</table>\n",
       "</div>"
      ],
      "text/plain": [
       "                     count       mean        std       min       25%  \\\n",
       "DEFAULT SEX_NAME                                                       \n",
       "0       Female   14349.000 179726.531 126418.360 10000.000 80000.000   \n",
       "        Male      9015.000 175510.372 139488.384 10000.000 50000.000   \n",
       "1       Female    3763.000 133327.133 113323.651 10000.000 50000.000   \n",
       "        Male      2873.000 125895.468 117902.950 10000.000 30000.000   \n",
       "\n",
       "                        50%        75%         max  \n",
       "DEFAULT SEX_NAME                                    \n",
       "0       Female   160000.000 250000.000 1000000.000  \n",
       "        Male     150000.000 260000.000  800000.000  \n",
       "1       Female   100000.000 200000.000  740000.000  \n",
       "        Male      80000.000 190000.000  720000.000  "
      ]
     },
     "execution_count": 87,
     "metadata": {},
     "output_type": "execute_result"
    }
   ],
   "source": [
    "data.groupby(['DEFAULT','SEX_NAME'])['LIMIT_BAL'].describe()"
   ]
  },
  {
   "cell_type": "code",
   "execution_count": 74,
   "metadata": {},
   "outputs": [
    {
     "data": {
      "image/png": "[encoded data removed]",
      "text/plain": [
       "<Figure size 864x288 with 1 Axes>"
      ]
     },
     "metadata": {
      "needs_background": "light"
     },
     "output_type": "display_data"
    }
   ],
   "source": [
    "f,ax = plt.subplots(1,1, figsize=(12,4),sharey=True,sharex=True)\n",
    "bx1 = sns.boxplot(x=\"SEX_NAME\", y=\"LIMIT_BAL\", data=data,hue='DEFAULT',\n",
    "                  palette=['#b3b7b8','#c55572'],showfliers=False,linewidth=0.75,width=0.75)\n",
    "sns.despine(left=True)\n",
    "bx1.set_xlabel('');\n",
    "plt.suptitle('LIMIT_BAL vs Płeć w podziale na Deafult = 0 oraz Default = 1',fontsize=15);"
   ]
  },
  {
   "cell_type": "code",
   "execution_count": 89,
   "metadata": {},
   "outputs": [
    {
     "data": {
      "text/html": [
       "<div>\n",
       "<style scoped>\n",
       "    .dataframe tbody tr th:only-of-type {\n",
       "        vertical-align: middle;\n",
       "    }\n",
       "\n",
       "    .dataframe tbody tr th {\n",
       "        vertical-align: top;\n",
       "    }\n",
       "\n",
       "    .dataframe thead th {\n",
       "        text-align: right;\n",
       "    }\n",
       "</style>\n",
       "<table border=\"1\" class=\"dataframe\">\n",
       "  <thead>\n",
       "    <tr style=\"text-align: right;\">\n",
       "      <th></th>\n",
       "      <th>count</th>\n",
       "      <th>mean</th>\n",
       "      <th>std</th>\n",
       "      <th>min</th>\n",
       "      <th>25%</th>\n",
       "      <th>50%</th>\n",
       "      <th>75%</th>\n",
       "      <th>max</th>\n",
       "    </tr>\n",
       "    <tr>\n",
       "      <th>MARTIAL_STATUS</th>\n",
       "      <th></th>\n",
       "      <th></th>\n",
       "      <th></th>\n",
       "      <th></th>\n",
       "      <th></th>\n",
       "      <th></th>\n",
       "      <th></th>\n",
       "      <th></th>\n",
       "    </tr>\n",
       "  </thead>\n",
       "  <tbody>\n",
       "    <tr>\n",
       "      <td>married</td>\n",
       "      <td>13659.000</td>\n",
       "      <td>182200.893</td>\n",
       "      <td>133382.263</td>\n",
       "      <td>10000.000</td>\n",
       "      <td>70000.000</td>\n",
       "      <td>160000.000</td>\n",
       "      <td>260000.000</td>\n",
       "      <td>1000000.000</td>\n",
       "    </tr>\n",
       "    <tr>\n",
       "      <td>other</td>\n",
       "      <td>377.000</td>\n",
       "      <td>103076.923</td>\n",
       "      <td>95572.613</td>\n",
       "      <td>10000.000</td>\n",
       "      <td>40000.000</td>\n",
       "      <td>60000.000</td>\n",
       "      <td>140000.000</td>\n",
       "      <td>500000.000</td>\n",
       "    </tr>\n",
       "    <tr>\n",
       "      <td>single</td>\n",
       "      <td>15964.000</td>\n",
       "      <td>156413.661</td>\n",
       "      <td>125673.426</td>\n",
       "      <td>10000.000</td>\n",
       "      <td>50000.000</td>\n",
       "      <td>130000.000</td>\n",
       "      <td>220000.000</td>\n",
       "      <td>800000.000</td>\n",
       "    </tr>\n",
       "  </tbody>\n",
       "</table>\n",
       "</div>"
      ],
      "text/plain": [
       "                   count       mean        std       min       25%        50%  \\\n",
       "MARTIAL_STATUS                                                                  \n",
       "married        13659.000 182200.893 133382.263 10000.000 70000.000 160000.000   \n",
       "other            377.000 103076.923  95572.613 10000.000 40000.000  60000.000   \n",
       "single         15964.000 156413.661 125673.426 10000.000 50000.000 130000.000   \n",
       "\n",
       "                      75%         max  \n",
       "MARTIAL_STATUS                         \n",
       "married        260000.000 1000000.000  \n",
       "other          140000.000  500000.000  \n",
       "single         220000.000  800000.000  "
      ]
     },
     "execution_count": 89,
     "metadata": {},
     "output_type": "execute_result"
    }
   ],
   "source": [
    "data.groupby(['MARTIAL_STATUS'])['LIMIT_BAL'].describe()"
   ]
  },
  {
   "cell_type": "code",
   "execution_count": 75,
   "metadata": {},
   "outputs": [
    {
     "data": {
      "image/png": "[encoded data removed]",
      "text/plain": [
       "<Figure size 864x288 with 1 Axes>"
      ]
     },
     "metadata": {
      "needs_background": "light"
     },
     "output_type": "display_data"
    }
   ],
   "source": [
    "f,ax = plt.subplots(1,1, figsize=(12,4),sharey=True,sharex=True)\n",
    "bx1 = sns.boxplot(x=\"MARTIAL_STATUS\", y=\"LIMIT_BAL\", data=data,hue='DEFAULT',\n",
    "                  palette=['#b3b7b8','#c55572'],showfliers=False,linewidth=0.75,width=0.75)\n",
    "sns.despine(left=True)\n",
    "bx1.set_xlabel('');\n",
    "plt.suptitle('LIMIT_BAL vs Stan cywilny w podziale na Deafult = 0 oraz Default = 1',fontsize=15);"
   ]
  },
  {
   "cell_type": "code",
   "execution_count": 90,
   "metadata": {},
   "outputs": [
    {
     "data": {
      "text/html": [
       "<div>\n",
       "<style scoped>\n",
       "    .dataframe tbody tr th:only-of-type {\n",
       "        vertical-align: middle;\n",
       "    }\n",
       "\n",
       "    .dataframe tbody tr th {\n",
       "        vertical-align: top;\n",
       "    }\n",
       "\n",
       "    .dataframe thead th {\n",
       "        text-align: right;\n",
       "    }\n",
       "</style>\n",
       "<table border=\"1\" class=\"dataframe\">\n",
       "  <thead>\n",
       "    <tr style=\"text-align: right;\">\n",
       "      <th></th>\n",
       "      <th>count</th>\n",
       "      <th>mean</th>\n",
       "      <th>std</th>\n",
       "      <th>min</th>\n",
       "      <th>25%</th>\n",
       "      <th>50%</th>\n",
       "      <th>75%</th>\n",
       "      <th>max</th>\n",
       "    </tr>\n",
       "    <tr>\n",
       "      <th>EDUCATION_GROUP</th>\n",
       "      <th></th>\n",
       "      <th></th>\n",
       "      <th></th>\n",
       "      <th></th>\n",
       "      <th></th>\n",
       "      <th></th>\n",
       "      <th></th>\n",
       "      <th></th>\n",
       "    </tr>\n",
       "  </thead>\n",
       "  <tbody>\n",
       "    <tr>\n",
       "      <td>graduate school</td>\n",
       "      <td>10585.000</td>\n",
       "      <td>212956.070</td>\n",
       "      <td>135474.937</td>\n",
       "      <td>10000.000</td>\n",
       "      <td>100000.000</td>\n",
       "      <td>200000.000</td>\n",
       "      <td>300000.000</td>\n",
       "      <td>1000000.000</td>\n",
       "    </tr>\n",
       "    <tr>\n",
       "      <td>high school</td>\n",
       "      <td>4917.000</td>\n",
       "      <td>126550.270</td>\n",
       "      <td>113979.323</td>\n",
       "      <td>10000.000</td>\n",
       "      <td>50000.000</td>\n",
       "      <td>80000.000</td>\n",
       "      <td>180000.000</td>\n",
       "      <td>760000.000</td>\n",
       "    </tr>\n",
       "    <tr>\n",
       "      <td>others</td>\n",
       "      <td>468.000</td>\n",
       "      <td>181316.239</td>\n",
       "      <td>118385.691</td>\n",
       "      <td>10000.000</td>\n",
       "      <td>90000.000</td>\n",
       "      <td>170000.000</td>\n",
       "      <td>240000.000</td>\n",
       "      <td>710000.000</td>\n",
       "    </tr>\n",
       "    <tr>\n",
       "      <td>university</td>\n",
       "      <td>14030.000</td>\n",
       "      <td>147062.438</td>\n",
       "      <td>120672.282</td>\n",
       "      <td>10000.000</td>\n",
       "      <td>50000.000</td>\n",
       "      <td>110000.000</td>\n",
       "      <td>210000.000</td>\n",
       "      <td>800000.000</td>\n",
       "    </tr>\n",
       "  </tbody>\n",
       "</table>\n",
       "</div>"
      ],
      "text/plain": [
       "                    count       mean        std       min        25%  \\\n",
       "EDUCATION_GROUP                                                        \n",
       "graduate school 10585.000 212956.070 135474.937 10000.000 100000.000   \n",
       "high school      4917.000 126550.270 113979.323 10000.000  50000.000   \n",
       "others            468.000 181316.239 118385.691 10000.000  90000.000   \n",
       "university      14030.000 147062.438 120672.282 10000.000  50000.000   \n",
       "\n",
       "                       50%        75%         max  \n",
       "EDUCATION_GROUP                                    \n",
       "graduate school 200000.000 300000.000 1000000.000  \n",
       "high school      80000.000 180000.000  760000.000  \n",
       "others          170000.000 240000.000  710000.000  \n",
       "university      110000.000 210000.000  800000.000  "
      ]
     },
     "execution_count": 90,
     "metadata": {},
     "output_type": "execute_result"
    }
   ],
   "source": [
    "data.groupby(['EDUCATION_GROUP'])['LIMIT_BAL'].describe()"
   ]
  },
  {
   "cell_type": "code",
   "execution_count": 76,
   "metadata": {},
   "outputs": [
    {
     "data": {
      "image/png": "[encoded data removed]",
      "text/plain": [
       "<Figure size 864x288 with 1 Axes>"
      ]
     },
     "metadata": {
      "needs_background": "light"
     },
     "output_type": "display_data"
    }
   ],
   "source": [
    "f,ax = plt.subplots(1,1, figsize=(12,4),sharey=True,sharex=True)\n",
    "bx1 = sns.boxplot(x=\"EDUCATION_GROUP\", y=\"LIMIT_BAL\", data=data,hue='DEFAULT',\n",
    "                  palette=['#b3b7b8','#c55572'],showfliers=False,linewidth=0.75,width=0.75)\n",
    "sns.despine(left=True)\n",
    "bx1.set_xlabel('');\n",
    "plt.suptitle('LIMIT_BAL vs Wykształcenie w podziale na Deafult = 0 oraz Default = 1',fontsize=15);"
   ]
  },
  {
   "cell_type": "markdown",
   "metadata": {},
   "source": [
    "Jak widać udzielono najwięcej kredytów o wartości 50000. Widzimy, że dystrybucja kwoty kredytów w największym stopniu zawiera się w przedziale od 20 do 200 tyś. Od kwoty 200 tyś liczba kredytów stale spada. Jak popatrzymy na wartość kredytów udzielonych w podziale na Defaulty i Brak Defaultu widzimy, że średnia wartość kredytów dla Braku Defaultu była znacznie wyższa od średniej wartości kredytów dla Defaultu. W przypadku Defaultu kredyty były udzielane w głównej mierze na kwoty do 100 tyś.\n",
    "Gdy popatrzymy na wartość kredytu w podziale na Default i płeć to widzimy, że w przypadku mężczyzn przedział najczęstszych wartości jest większy niż w przypadku kobiet. Jednak nie są to bardzo duże różnice. \n",
    "Również patrząc na podział ze względu na stan cywilny możemy zauważyć, że kwoty udzielonego kredytu były dużo wyższe dla osób w związku małżeńskim niż singli. \n",
    "W przypadku podziału na poziomy wykształcenia, widzimy że największe kwoty kredytu dotyczą grupy \"Graduate School\""
   ]
  },
  {
   "cell_type": "code",
   "execution_count": null,
   "metadata": {},
   "outputs": [],
   "source": []
  }
 ],
 "metadata": {
  "kernelspec": {
   "display_name": "Python 3",
   "language": "python",
   "name": "python3"
  },
  "language_info": {
   "codemirror_mode": {
    "name": "ipython",
    "version": 3
   },
   "file_extension": ".py",
   "mimetype": "text/x-python",
   "name": "python",
   "nbconvert_exporter": "python",
   "pygments_lexer": "ipython3",
   "version": "3.7.4"
  }
 },
 "nbformat": 4,
 "nbformat_minor": 2
}
